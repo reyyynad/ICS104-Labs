{
 "cells": [
  {
   "cell_type": "markdown",
   "id": "230371ce",
   "metadata": {},
   "source": [
    "Name : Renad Adel\n",
    "\n",
    "ID: 202276760\n",
    "\n",
    "Section: F24"
   ]
  },
  {
   "cell_type": "code",
   "execution_count": 1,
   "id": "96fae6bd",
   "metadata": {},
   "outputs": [
    {
     "name": "stdout",
     "output_type": "stream",
     "text": [
      "[3, 2, 4, 1, 9, 5, 8, 6, 7]\n",
      "[2, 1, 3, 8, 4, 7, 5, 6, 9]\n",
      "[1, 2, 7, 3, 6, 4, 5, 8, 9]\n",
      "[1, 6, 2, 5, 3, 4, 7, 8, 9]\n",
      "[5, 1, 4, 2, 3, 6, 7, 8, 9]\n",
      "[4, 3, 1, 2, 5, 6, 7, 8, 9]\n",
      "[3, 2, 1, 4, 5, 6, 7, 8, 9]\n",
      "[2, 1, 3, 4, 5, 6, 7, 8, 9]\n",
      "[1, 2, 3, 4, 5, 6, 7, 8, 9]\n"
     ]
    }
   ],
   "source": [
    "# This program generates a random list of numbers from 1 to 9, with no duplicates, and then manipulates the list until it is sorted in ascending order.\n",
    "\n",
    "def main():\n",
    "    randomList = [3, 2, 4, 1, 9, 5, 8, 6, 7]\n",
    "    sortedList = [1, 2, 3, 4, 5, 6, 7, 8, 9]\n",
    "    # Continue looping until the list is sorted\n",
    "    while randomList != sortedList:\n",
    "        # Print the current state of the list\n",
    "        print(randomList)\n",
    "        randomList = wantedList(randomList)\n",
    "    # Print the final sorted list\n",
    "    print(randomList) \n",
    "\n",
    "\n",
    "# This function subtracts one from each number in the list and remove any zeros\n",
    "def wantedList(myList):\n",
    "    addNumber = len(myList)\n",
    "    newList = []\n",
    "    for i in myList: \n",
    "        if i != 1:\n",
    "            newList.append(i - 1)\n",
    "    newList.append(addNumber)\n",
    "    return newList\n",
    "\n",
    "\n",
    "# Call the main function to run the program\n",
    "main()"
   ]
  },
  {
   "cell_type": "code",
   "execution_count": null,
   "id": "e1ac0a6e",
   "metadata": {},
   "outputs": [],
   "source": []
  }
 ],
 "metadata": {
  "kernelspec": {
   "display_name": "Python 3 (ipykernel)",
   "language": "python",
   "name": "python3"
  },
  "language_info": {
   "codemirror_mode": {
    "name": "ipython",
    "version": 3
   },
   "file_extension": ".py",
   "mimetype": "text/x-python",
   "name": "python",
   "nbconvert_exporter": "python",
   "pygments_lexer": "ipython3",
   "version": "3.10.9"
  }
 },
 "nbformat": 4,
 "nbformat_minor": 5
}
