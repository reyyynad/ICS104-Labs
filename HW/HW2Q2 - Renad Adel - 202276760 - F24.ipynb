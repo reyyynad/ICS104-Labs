{
 "cells": [
  {
   "cell_type": "markdown",
   "id": "33c250d9",
   "metadata": {},
   "source": [
    "Name : Renad Adel\n",
    "\n",
    "Id: 202276760\n",
    "\n",
    "Section: F24"
   ]
  },
  {
   "cell_type": "code",
   "execution_count": 2,
   "id": "c755d4c8",
   "metadata": {},
   "outputs": [
    {
     "name": "stdout",
     "output_type": "stream",
     "text": [
      "Enter your password: hi\n",
      "Confirm your password: s\n",
      "Does not fulfill the rules.\n",
      "Enter your password: ,\n",
      "Confirm your password: s\n",
      "Does not fulfill the rules.\n",
      "Enter your password: d,e\n",
      "Confirm your password: ABCd1234\n",
      "Does not fulfill the rules.\n",
      "Enter your password: ABCd1234\n",
      "Confirm your password: ABCd1234\n",
      "The password is Valid.\n"
     ]
    }
   ],
   "source": [
    "# Define a function for password validation\n",
    "def passwordValidation():\n",
    "    # Initialize variables to keep track of uppercase, lowercase, and digits in the password\n",
    "    upperCase = 0\n",
    "    lowerCase = 0\n",
    "    digits = 0 \n",
    "    \n",
    "    # Loop through each character in the password and count the number of uppercase, lowercase, and digits\n",
    "    for i in password:\n",
    "        if i.isupper():\n",
    "            upperCase += 1\n",
    "        elif i.islower():\n",
    "            lowerCase += 1\n",
    "        elif i.isdigit():\n",
    "            digits += 1\n",
    "                    \n",
    "    # Check if the password contains at least one uppercase, one lowercase, and one digit and is at least 8 characters long\n",
    "    if upperCase >= 1 and lowerCase >= 1 and digits >= 1 and len(password) >= 8:\n",
    "        print(\"The password is Valid.\")\n",
    "        return False\n",
    "            \n",
    "    else:\n",
    "        print(\"Does not fulfill the rules.\")\n",
    "        return True\n",
    "             \n",
    "\n",
    "# Keep asking for password and confirmation until they meet the requirements and match each other\n",
    "flag = True\n",
    "while flag:\n",
    "    password = input(\"Enter your password: \")\n",
    "    passwordConfirmation = input(\"Confirm your password: \")\n",
    "    \n",
    "    if password == passwordConfirmation:\n",
    "        flag = passwordValidation()\n",
    "    else:\n",
    "        print(\"Does not fulfill the rules.\")\n",
    "        flag = True\n"
   ]
  },
  {
   "cell_type": "code",
   "execution_count": null,
   "id": "c78dd259",
   "metadata": {},
   "outputs": [],
   "source": []
  }
 ],
 "metadata": {
  "kernelspec": {
   "display_name": "Python 3 (ipykernel)",
   "language": "python",
   "name": "python3"
  },
  "language_info": {
   "codemirror_mode": {
    "name": "ipython",
    "version": 3
   },
   "file_extension": ".py",
   "mimetype": "text/x-python",
   "name": "python",
   "nbconvert_exporter": "python",
   "pygments_lexer": "ipython3",
   "version": "3.10.9"
  }
 },
 "nbformat": 4,
 "nbformat_minor": 5
}
