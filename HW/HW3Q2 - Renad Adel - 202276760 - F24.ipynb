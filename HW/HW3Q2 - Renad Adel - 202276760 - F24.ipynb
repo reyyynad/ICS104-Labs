{
 "cells": [
  {
   "cell_type": "markdown",
   "id": "63e3be75",
   "metadata": {},
   "source": [
    "Name : Renad Adel\n",
    "\n",
    "ID: 202276760\n",
    "\n",
    "Section: F24"
   ]
  },
  {
   "cell_type": "code",
   "execution_count": 6,
   "id": "dce9d419",
   "metadata": {},
   "outputs": [
    {
     "name": "stdout",
     "output_type": "stream",
     "text": [
      "grade    frequency\n",
      "A+       130\n",
      "A        111\n",
      "B+       104\n",
      "B        98\n",
      "C+       104\n",
      "C        99\n",
      "D+       114\n",
      "D        99\n",
      "F        141\n"
     ]
    }
   ],
   "source": [
    "# This program reads the input file \"LetterGrades.txt\" and displays to the console the letter frequencies in that file.\n",
    "\n",
    "# Initialize a dictionary to store the letter frequencies\n",
    "letterFreq = {\"A+\": 0, \"A\": 0, \"B+\": 0, \"B\": 0, \"C+\": 0, \"C\": 0, \"D+\": 0, \"D\": 0, \"F\": 0}\n",
    "\n",
    "# Open the input file for reading\n",
    "infile = open(\"LetterGrades.txt\", \"r\")\n",
    "\n",
    "# Iterate over each line in the file and remove any whitespaces \n",
    "for line in infile:\n",
    "    grade = line.rstrip()\n",
    "    \n",
    "    # Increment the frequency count for the corresponding letter grade in the dictionary\n",
    "    letterFreq[grade] += 1\n",
    "\n",
    "# Print the header for the output\n",
    "print(\"%-8s %s\" % (\"grade\", \"frequency\"))\n",
    "\n",
    "# Iterate over the letter frequencies dictionary and print each grade and its frequency\n",
    "for i in letterFreq:\n",
    "    print(\"%-8s %d\" % (i, letterFreq[i]))\n",
    "    \n",
    "# Close the file\n",
    "infile.close()"
   ]
  },
  {
   "cell_type": "code",
   "execution_count": null,
   "id": "4d155da0",
   "metadata": {},
   "outputs": [],
   "source": []
  }
 ],
 "metadata": {
  "kernelspec": {
   "display_name": "Python 3 (ipykernel)",
   "language": "python",
   "name": "python3"
  },
  "language_info": {
   "codemirror_mode": {
    "name": "ipython",
    "version": 3
   },
   "file_extension": ".py",
   "mimetype": "text/x-python",
   "name": "python",
   "nbconvert_exporter": "python",
   "pygments_lexer": "ipython3",
   "version": "3.10.9"
  }
 },
 "nbformat": 4,
 "nbformat_minor": 5
}
