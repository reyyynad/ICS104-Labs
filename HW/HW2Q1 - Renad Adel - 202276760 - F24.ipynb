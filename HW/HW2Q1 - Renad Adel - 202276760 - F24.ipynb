{
 "cells": [
  {
   "cell_type": "markdown",
   "id": "b82c42ef",
   "metadata": {},
   "source": [
    "Name : Renad Adel\n",
    "\n",
    "ID: 202276760\n",
    "\n",
    "Section: F24"
   ]
  },
  {
   "cell_type": "code",
   "execution_count": 1,
   "id": "2eb6b837",
   "metadata": {},
   "outputs": [
    {
     "name": "stdout",
     "output_type": "stream",
     "text": [
      "Enter a string: rum\n",
      "r\n",
      "u\n",
      "m\n",
      "ru\n",
      "um\n",
      "rum\n"
     ]
    }
   ],
   "source": [
    "#This program reads a word and prints all substrings, sorted by length\n",
    "\n",
    "# the user inputs a string\n",
    "string = input(\"Enter a string: \")\n",
    "\n",
    "# Iterate through all possible substrings \n",
    "for i in range(1, len(string) + 1): # iterates through the lengths of the substrings\n",
    "    for j in range(len(string)): # iterates through the indices of the string\n",
    "        for k in range(i, len(string)+1): # iterates through the end indices of substrings\n",
    "            if len(string[j:k]) == i: # If the length of the substring is equal to the current length being iterated over\n",
    "                print(string[j:k]) # Print the substrings"
   ]
  },
  {
   "cell_type": "code",
   "execution_count": null,
   "id": "65122877",
   "metadata": {},
   "outputs": [],
   "source": []
  }
 ],
 "metadata": {
  "kernelspec": {
   "display_name": "Python 3 (ipykernel)",
   "language": "python",
   "name": "python3"
  },
  "language_info": {
   "codemirror_mode": {
    "name": "ipython",
    "version": 3
   },
   "file_extension": ".py",
   "mimetype": "text/x-python",
   "name": "python",
   "nbconvert_exporter": "python",
   "pygments_lexer": "ipython3",
   "version": "3.10.9"
  }
 },
 "nbformat": 4,
 "nbformat_minor": 5
}
