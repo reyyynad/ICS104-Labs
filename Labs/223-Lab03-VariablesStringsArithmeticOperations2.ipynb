{
 "cells": [
  {
   "cell_type": "markdown",
   "metadata": {
    "slideshow": {
     "slide_type": "slide"
    }
   },
   "source": [
    "### ICS 104 - Introduction to Programming in Python and C\n",
    "# 223-Lab03-Variables, Strings, and Arithmetic Operations 2"
   ]
  },
  {
   "cell_type": "markdown",
   "metadata": {
    "slideshow": {
     "slide_type": "slide"
    }
   },
   "source": [
    "## Lab Learning Outcomes"
   ]
  },
  {
   "cell_type": "markdown",
   "metadata": {
    "slideshow": {
     "slide_type": "fragment"
    }
   },
   "source": [
    "- Use strings.\n",
    "- Read input.\n",
    "- Print output."
   ]
  },
  {
   "cell_type": "markdown",
   "metadata": {
    "slideshow": {
     "slide_type": "slide"
    }
   },
   "source": [
    "## Exercises"
   ]
  },
  {
   "cell_type": "markdown",
   "metadata": {
    "cell_style": "center",
    "slideshow": {
     "slide_type": "fragment"
    }
   },
   "source": [
    "### Exercise 1\n",
    "Write a program that prompts the user for two integers and then prints\n",
    "- The sum\n",
    "- The difference\n",
    "- The product\n",
    "- The average\n",
    "- The distance (absolute value of the difference)\n",
    "- The maximum (the larger of the two)\n",
    "- The minimum (the smaller of the two)\n",
    "\n",
    "Hint: Python defines max and min functions that accept a sequence of values, each\n",
    "separated with a comma.\n",
    "\n",
    "Here is a sample run.\n",
    "\n",
    "Please enter the two integers: 20 25\n",
    "\n",
    "Sum:         45\n",
    "Difference:  -5\n",
    "Product:    500\n",
    "Average:     22.50\n",
    "Distance:     5\n",
    "Maximum:     25\n",
    "Minimum:     20"
   ]
  },
  {
   "cell_type": "code",
   "execution_count": 4,
   "metadata": {
    "nbgrader": {
     "grade": false,
     "grade_id": "ex01_answer",
     "locked": false,
     "schema_version": 3,
     "solution": true,
     "task": false
    },
    "slideshow": {
     "slide_type": "-"
    }
   },
   "outputs": [
    {
     "name": "stdout",
     "output_type": "stream",
     "text": [
      "Enter an integer: 20\n",
      "Enter an integer: 25\n",
      "The sum is 45\n",
      "The difference is -5\n",
      "The product is 500\n",
      "The average is 22.5\n",
      "The distance is 5.0\n",
      "The maximum is 25\n",
      "The minimum is 20\n"
     ]
    }
   ],
   "source": [
    "# Write a program that prompts the user for two integers and then prints\n",
    "int1 = int(input(\"Enter an integer: \"))\n",
    "int2 = int(input(\"Enter an integer: \"))\n",
    "from math import sqrt\n",
    "\n",
    "# the sum\n",
    "theSum = int1 + int2\n",
    "\n",
    "#the difference\n",
    "theDifference = int1 - int2\n",
    "\n",
    "#the product\n",
    "theProduct = int1 * int2\n",
    "\n",
    "#the average\n",
    "theAverage = (int1 + int2) / 2\n",
    "\n",
    "#the distance\n",
    "theDistance = sqrt((int1 - int2) ** 2)\n",
    "\n",
    "#the maximum\n",
    "theMaximum = max(int1, int2)\n",
    "\n",
    "#the minimum\n",
    "theMinimum = min(int1, int2)\n",
    "\n",
    "print(\"The sum is\", theSum)\n",
    "print(\"The difference is\", theDifference)\n",
    "print(\"The product is\", theProduct)\n",
    "print(\"The average is\", theAverage)\n",
    "print(\"The distance is\", theDistance)\n",
    "print(\"The maximum is\", theMaximum)\n",
    "print(\"The minimum is\", theMinimum)\n",
    "\n",
    "\n",
    "\n"
   ]
  },
  {
   "cell_type": "markdown",
   "metadata": {
    "slideshow": {
     "slide_type": "slide"
    }
   },
   "source": [
    "### Exercise 2\n",
    "\n",
    "Write a program that reads a number between 10,000 and 99,999 from the user,\n",
    "where the user enters a comma in the input. Then print the number without a\n",
    "comma. \n",
    "\n",
    "Here is a sample dialog:\n",
    "\n",
    "Please enter an integer between 10,000 and 99,999: 23,456\n",
    "\n",
    "23,456 without comma is 23456"
   ]
  },
  {
   "cell_type": "code",
   "execution_count": 9,
   "metadata": {
    "nbgrader": {
     "grade": false,
     "grade_id": "ex03_answer",
     "locked": false,
     "schema_version": 3,
     "solution": true
    },
    "scrolled": true,
    "slideshow": {
     "slide_type": "-"
    }
   },
   "outputs": [
    {
     "name": "stdout",
     "output_type": "stream",
     "text": [
      "Enter an integer between 10,000 and 99,999: 23,456\n",
      "23456\n"
     ]
    }
   ],
   "source": [
    "# Write a program that reads a number between 10,000 and 99,999 from the user, \n",
    "# where the user enters a comma in the input. Then print the number without a comma.\n",
    "#using replace()\n",
    "\n",
    "number = input(\"Enter an integer between 10,000 and 99,999: \")\n",
    "number = number.replace(\",\", \"\")\n",
    "print(number)\n"
   ]
  },
  {
   "cell_type": "code",
   "execution_count": 11,
   "metadata": {},
   "outputs": [
    {
     "name": "stdout",
     "output_type": "stream",
     "text": [
      "Enter an integer between 10,000 and 99,999: 23,456\n",
      "23456\n"
     ]
    }
   ],
   "source": [
    "# Write a program that reads a number between 10,000 and 99,999 from the user, \n",
    "# where the user enters a comma in the input. Then print the number without a comma.\n",
    "#using slicing strings\n",
    "\n",
    "number = input(\"Enter an integer between 10,000 and 99,999: \")\n",
    "number = number[:2] + number[3:]\n",
    "print(number)"
   ]
  },
  {
   "cell_type": "markdown",
   "metadata": {
    "slideshow": {
     "slide_type": "subslide"
    }
   },
   "source": [
    "### Exercise 3\n",
    "Write a program that transforms numbers 1, 2, 3, …, 12\n",
    "into the corresponding month names Jan, Feb, Mar, …, Dec.\n",
    "\n",
    "Here is a sample dialog:\n",
    "\n",
    "Please enter a month number 1 - 12: 6\n",
    "\n",
    "Month 6 name is Jun\n",
    "\n",
    "Hint: Make a long string \"JanFebMar...\", in which each month name has length of three. Then concatenate the characters of the month that you want."
   ]
  },
  {
   "cell_type": "code",
   "execution_count": 6,
   "metadata": {
    "slideshow": {
     "slide_type": "-"
    }
   },
   "outputs": [
    {
     "name": "stdout",
     "output_type": "stream",
     "text": [
      "Enter a month number 1 - 12: 12\n",
      "Dec\n"
     ]
    }
   ],
   "source": [
    "# Write a program that transforms numbers 1, 2, 3, …, 12 into the corresponding month names Jan, Feb, Mar, …, Dec.\n",
    "\n",
    "month = int(input(\"Enter a month number 1 - 12: \"))\n",
    "months = \"JanFebMarAprMayJunJulAugSepOctNovDec\"\n",
    "s = 3 * month - 3\n",
    "print(months[s:s+3]) #s is the index, add 3 chr to get an output of the month\n"
   ]
  }
 ],
 "metadata": {
  "celltoolbar": "Slideshow",
  "kernelspec": {
   "display_name": "Python 3 (ipykernel)",
   "language": "python",
   "name": "python3"
  },
  "language_info": {
   "codemirror_mode": {
    "name": "ipython",
    "version": 3
   },
   "file_extension": ".py",
   "mimetype": "text/x-python",
   "name": "python",
   "nbconvert_exporter": "python",
   "pygments_lexer": "ipython3",
   "version": "3.10.9"
  },
  "toc": {
   "base_numbering": 1,
   "nav_menu": {},
   "number_sections": true,
   "sideBar": true,
   "skip_h1_title": false,
   "title_cell": "Table of Contents",
   "title_sidebar": "Contents",
   "toc_cell": false,
   "toc_position": {},
   "toc_section_display": true,
   "toc_window_display": false
  },
  "varInspector": {
   "cols": {
    "lenName": 16,
    "lenType": 16,
    "lenVar": 40
   },
   "kernels_config": {
    "python": {
     "delete_cmd_postfix": "",
     "delete_cmd_prefix": "del ",
     "library": "var_list.py",
     "varRefreshCmd": "print(var_dic_list())"
    },
    "r": {
     "delete_cmd_postfix": ") ",
     "delete_cmd_prefix": "rm(",
     "library": "var_list.r",
     "varRefreshCmd": "cat(var_dic_list()) "
    }
   },
   "types_to_exclude": [
    "module",
    "function",
    "builtin_function_or_method",
    "instance",
    "_Feature"
   ],
   "window_display": false
  }
 },
 "nbformat": 4,
 "nbformat_minor": 4
}
