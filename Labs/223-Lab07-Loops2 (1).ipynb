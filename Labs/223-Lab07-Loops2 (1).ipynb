{
 "cells": [
  {
   "cell_type": "markdown",
   "metadata": {
    "slideshow": {
     "slide_type": "slide"
    }
   },
   "source": [
    "###### ICS 104 - Introduction to Programming in Python and C\n",
    "## 223-Lab07-Loops 2"
   ]
  },
  {
   "cell_type": "markdown",
   "metadata": {
    "slideshow": {
     "slide_type": "fragment"
    }
   },
   "source": [
    "# Lab Learning Outcomes\n",
    "- To learn how to use loops to validate input. \n",
    "- To implement loops using while and for statements"
   ]
  },
  {
   "cell_type": "markdown",
   "metadata": {
    "slideshow": {
     "slide_type": "slide"
    }
   },
   "source": [
    "# Exercises"
   ]
  },
  {
   "cell_type": "markdown",
   "metadata": {
    "cell_style": "center",
    "slideshow": {
     "slide_type": "slide"
    }
   },
   "source": [
    "### Exercise 1\n",
    "Write a program that asks the user for a positive integer number. If the entered input is not valid, loop until it's valid then print whether the number is prime or not.\n",
    "<br> \n",
    "Recall that a number is a prime number if it is not divisible by any number except 1 and itself.\n",
    "<br><br>\n",
    "Here is a sample run.<br>\n",
    "<br>\n",
    "Enter a positive integer: abc<br>\n",
    "abc is not a positive integer<br><br>\n",
    "Enter a positive integer: 10.5<br>\n",
    "10.5 is not a positive integer<br><br>\n",
    "Enter a positive integer: -5<br>\n",
    "-5 is not a positive integer<br><br>\n",
    "Enter a positive integer: 19<br>\n",
    "19 is prime<br>"
   ]
  },
  {
   "cell_type": "code",
   "execution_count": 2,
   "metadata": {
    "nbgrader": {
     "grade": false,
     "grade_id": "cell-831668a818326720",
     "locked": false,
     "schema_version": 1,
     "solution": true
    },
    "slideshow": {
     "slide_type": "fragment"
    }
   },
   "outputs": [
    {
     "ename": "IndentationError",
     "evalue": "expected an indented block after 'if' statement on line 7 (2623880702.py, line 16)",
     "output_type": "error",
     "traceback": [
      "\u001b[1;36m  Cell \u001b[1;32mIn[2], line 16\u001b[1;36m\u001b[0m\n\u001b[1;33m    else:\u001b[0m\n\u001b[1;37m    ^\u001b[0m\n\u001b[1;31mIndentationError\u001b[0m\u001b[1;31m:\u001b[0m expected an indented block after 'if' statement on line 7\n"
     ]
    }
   ],
   "source": [
    "done = True\n",
    "while done:\n",
    "    integer = input(\"Enter a positive integer: \")\n",
    "    if integer.isdigit():\n",
    "        integer = int(integer)\n",
    "        for i in range(1, integer + 1) :\n",
    "            if integer % i == 0:\n",
    "                \n",
    "        \n",
    "        \n",
    "        \n",
    "        \n",
    "        \n",
    "        \n",
    "        \n",
    "    else:\n",
    "        print(integer, \"is not a positive integer\")\n",
    "        done = True"
   ]
  },
  {
   "cell_type": "code",
   "execution_count": null,
   "metadata": {},
   "outputs": [],
   "source": [
    "# checking\n",
    "done = True\n",
    "while done:\n",
    "    integer = input(\"Enter a positive integer: \")\n",
    "    if integer.isdigit():\n",
    "        integer = int(integer)\n",
    "        if \n",
    "        \n",
    "        \n",
    "        \n",
    "        \n",
    "        \n",
    "        \n",
    "        \n",
    "    else:\n",
    "        print(integer, \"is not a positive integer\")\n",
    "        done = True"
   ]
  },
  {
   "cell_type": "markdown",
   "metadata": {
    "slideshow": {
     "slide_type": "slide"
    }
   },
   "source": [
    "### Exercise 2\n",
    "A positive integer is called a perfect number if it is equal to the sum of all of its positive divisors, excluding itself. \n",
    "\n",
    "For example, 6 is the first perfect number because 6 = 3 + 2 + 1. The next is 28 = 14 + 7 + 4 + 2 + 1. There are four perfect numbers < 10,000. \n",
    "\n",
    "Write a program to find all these four numbers.\n"
   ]
  },
  {
   "cell_type": "code",
   "execution_count": 3,
   "metadata": {
    "nbgrader": {
     "grade": false,
     "grade_id": "cell-49086fa4c5681df1",
     "locked": false,
     "schema_version": 1,
     "solution": true
    },
    "slideshow": {
     "slide_type": "fragment"
    }
   },
   "outputs": [
    {
     "name": "stdout",
     "output_type": "stream",
     "text": [
      "6 is a perfect number\n",
      "28 is a perfect number\n",
      "496 is a perfect number\n",
      "8128 is a perfect number\n"
     ]
    }
   ],
   "source": [
    "for n in range(1, 10001):\n",
    "    total = 0\n",
    "    for i in range(1, n):\n",
    "        if n % i == 0:\n",
    "            total = total + i\n",
    "    if n == total:\n",
    "        print(total, \"is a perfect number\")\n",
    "\n",
    "    "
   ]
  },
  {
   "cell_type": "code",
   "execution_count": null,
   "metadata": {},
   "outputs": [],
   "source": []
  }
 ],
 "metadata": {
  "celltoolbar": "Slideshow",
  "kernelspec": {
   "display_name": "Python 3 (ipykernel)",
   "language": "python",
   "name": "python3"
  },
  "language_info": {
   "codemirror_mode": {
    "name": "ipython",
    "version": 3
   },
   "file_extension": ".py",
   "mimetype": "text/x-python",
   "name": "python",
   "nbconvert_exporter": "python",
   "pygments_lexer": "ipython3",
   "version": "3.10.9"
  },
  "rise": {
   "theme": "yellow"
  },
  "toc": {
   "base_numbering": 1,
   "nav_menu": {},
   "number_sections": true,
   "sideBar": true,
   "skip_h1_title": false,
   "title_cell": "Table of Contents",
   "title_sidebar": "Contents",
   "toc_cell": false,
   "toc_position": {
    "height": "131px",
    "left": "781px",
    "top": "290px",
    "width": "221px"
   },
   "toc_section_display": true,
   "toc_window_display": false
  },
  "varInspector": {
   "cols": {
    "lenName": 16,
    "lenType": 16,
    "lenVar": 40
   },
   "kernels_config": {
    "python": {
     "delete_cmd_postfix": "",
     "delete_cmd_prefix": "del ",
     "library": "var_list.py",
     "varRefreshCmd": "print(var_dic_list())"
    },
    "r": {
     "delete_cmd_postfix": ") ",
     "delete_cmd_prefix": "rm(",
     "library": "var_list.r",
     "varRefreshCmd": "cat(var_dic_list()) "
    }
   },
   "types_to_exclude": [
    "module",
    "function",
    "builtin_function_or_method",
    "instance",
    "_Feature"
   ],
   "window_display": false
  }
 },
 "nbformat": 4,
 "nbformat_minor": 4
}
