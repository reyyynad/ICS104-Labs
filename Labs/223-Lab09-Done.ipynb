{
 "cells": [
  {
   "cell_type": "markdown",
   "metadata": {
    "slideshow": {
     "slide_type": "slide"
    }
   },
   "source": [
    "# ICS 104 - Introduction to Programming in Python and C\n",
    "## Lists, Tuples and Dictionaries "
   ]
  },
  {
   "cell_type": "markdown",
   "metadata": {
    "slideshow": {
     "slide_type": "slide"
    }
   },
   "source": [
    "# Lab Objectives\n",
    "- To be familiar with common functions, operators and methods used with lists, tuples and dictionaries\n",
    "- To implement algorithms using lists, tuples and dictionaries .\n",
    "- To structure programs using functions."
   ]
  },
  {
   "cell_type": "markdown",
   "metadata": {
    "slideshow": {
     "slide_type": "slide"
    }
   },
   "source": [
    "# Exercises "
   ]
  },
  {
   "cell_type": "markdown",
   "metadata": {},
   "source": [
    "## Exercise # 1 \n",
    "Write a program that prints elements of a list where each element is printed in a line and preceded by its position in the list\n",
    "\n",
    "__Sample Run__\n",
    "\n",
    "myList = [10 , 9 , 7 , 12, 21, 15, 101  ]\n",
    "\n",
    "```\n",
    "output\n",
    "\n",
    "1 10\n",
    "2 9\n",
    "3 7\n",
    "4 12\n",
    "5 21\n",
    "6 15\n",
    "7 101\n",
    "```"
   ]
  },
  {
   "cell_type": "code",
   "execution_count": 1,
   "metadata": {},
   "outputs": [
    {
     "name": "stdout",
     "output_type": "stream",
     "text": [
      "1 10\n",
      "2 9\n",
      "3 7\n",
      "4 12\n",
      "5 21\n",
      "6 15\n",
      "7 101\n"
     ]
    }
   ],
   "source": [
    "myList = [10 , 9 , 7 , 12, 21, 15, 101 ]\n",
    "for i in range(len(myList)):\n",
    "    print((i + 1), myList[i])"
   ]
  },
  {
   "cell_type": "code",
   "execution_count": 8,
   "metadata": {},
   "outputs": [
    {
     "name": "stdout",
     "output_type": "stream",
     "text": [
      "1 10\n",
      "2 9\n",
      "3 7\n",
      "4 12\n",
      "5 21\n",
      "6 15\n",
      "7 101\n"
     ]
    }
   ],
   "source": [
    "#in class\n",
    "myList = [10 , 9 , 7 , 12, 21, 15, 101]\n",
    "for i in range(1, len(myList) + 1):\n",
    "    print(i, myList[i-1])\n",
    "\n",
    "\n",
    "\n"
   ]
  },
  {
   "cell_type": "markdown",
   "metadata": {},
   "source": [
    "## Exercise # 2 \n",
    "Given array that contains positive and negative numbers, write a program that creates a new list containing the negative numbers only\n",
    "\n",
    "\n",
    "__Sample Run__\n",
    "\n",
    "myList = [10 , -9 , 7 , -12, 21, -15, -101  ]\n",
    "\n",
    "```\n",
    "output\n",
    "\n",
    "[ -9 ,  -12,  -15, -101  ]\n",
    "\n",
    "```"
   ]
  },
  {
   "cell_type": "code",
   "execution_count": 4,
   "metadata": {},
   "outputs": [
    {
     "name": "stdout",
     "output_type": "stream",
     "text": [
      "[-9, -12, -15, -101]\n"
     ]
    }
   ],
   "source": [
    "myList = [10 , -9 , 7 , -12, 21, -15, -101 ]\n",
    "myList2 = []\n",
    "for i in myList:\n",
    "    if i < 0:\n",
    "        myList2.append(i)\n",
    "print(myList2)"
   ]
  },
  {
   "cell_type": "code",
   "execution_count": 1,
   "metadata": {},
   "outputs": [
    {
     "name": "stdout",
     "output_type": "stream",
     "text": [
      "[-9, -12, -15, -101]\n"
     ]
    }
   ],
   "source": [
    "#in class\n",
    "myList = [10 , -9 , 7 , -12, 21, -15, -101  ]\n",
    "negativeList = []\n",
    "for i in myList:\n",
    "    if i < 0:\n",
    "        negativeList.append(i) \n",
    "\n",
    "print(negativeList)   # output should be [ -9 ,  -12,  -15, -101  ]"
   ]
  },
  {
   "cell_type": "markdown",
   "metadata": {
    "slideshow": {
     "slide_type": "slide"
    }
   },
   "source": [
    "## Exercise # 3\n",
    "Write a program that translates a letter grade into a number grade using a dictionary. Letter grades are\n",
    "\n",
    "A+, A, B+, B, C+, C, D+, D, and F. \n",
    "\n",
    "Their numeric values are \n",
    "\n",
    "4.0, 3.75, 3.5, 3.0, 2.5, 2.0, 1.5, 1.0, and 0.0.\n",
    "\n",
    "<br>\n",
    "Here is a sample run.<br>\n",
    "\n",
    "Enter a letter grade: B+<br>\n",
    "The numeric value is 3.5<br>\n",
    "<br>\n",
    "Enter a letter grade: X<br>\n",
    "Invalid letter grade<br>"
   ]
  },
  {
   "cell_type": "code",
   "execution_count": 8,
   "metadata": {},
   "outputs": [
    {
     "name": "stdout",
     "output_type": "stream",
     "text": [
      "Enter a letter grade: C+\n",
      "The numeric values is 2.5\n"
     ]
    }
   ],
   "source": [
    "grades= {\"A+\":4.0, \"A\":3.75, \"B+\":3.5, \"B\":3.0, \"C+\":2.5, \"C\":2.0, \"D+\":1.5, \"D\":1, \"F\": 0.0}\n",
    "grade = input(\"Enter a letter grade: \")\n",
    "if grade in grades:\n",
    "    print(\"The numeric values is\", grades[grade])\n",
    "else:\n",
    "    print(\"Invalid letter grade\")\n"
   ]
  },
  {
   "cell_type": "code",
   "execution_count": 17,
   "metadata": {},
   "outputs": [
    {
     "name": "stdout",
     "output_type": "stream",
     "text": [
      "Enter a letter grade: C+\n",
      "2.5\n"
     ]
    }
   ],
   "source": [
    "grades= {\"A+\":4.0, \"A\":3.75, \"B+\":3.5, \"B\":3.0, \"C+\":2.5, \"C\":2.0, \"D+\":1.5, \"D\":1, \"F\": 0.0}\n",
    "grade = input(\"Enter a letter grade: \")\n",
    "value = grades.get(grade, \"Invalid letter grade\")\n",
    "print(value)"
   ]
  },
  {
   "cell_type": "markdown",
   "metadata": {
    "slideshow": {
     "slide_type": "fragment"
    }
   },
   "source": [
    "## Exercise # 4 \n",
    "Write a program that adds all numbers from 2 to n to a list where n is an itegere entered by the user. Then remove the multiples of 2 (but not 2), multiples of 3 (but not 3), and so on, up to the multiples of 100. Print the remaining values."
   ]
  },
  {
   "cell_type": "code",
   "execution_count": 19,
   "metadata": {},
   "outputs": [
    {
     "name": "stdout",
     "output_type": "stream",
     "text": [
      "Enter n> 10\n",
      "[2, 3, 4, 5, 6, 7, 8, 9, 10]\n",
      "[2, 3, 5, 7]\n"
     ]
    }
   ],
   "source": [
    "n = int(input(\"Enter n> \"))\n",
    "myList = []\n",
    "for k in range(2, n+1):\n",
    "    myList.append(k)\n",
    "print(myList)\n",
    "\n",
    "for i in range(2, n+1):\n",
    "    for j in myList:\n",
    "        if j % i == 0 and j != i:\n",
    "            myList.remove(j)\n",
    "print(myList)"
   ]
  },
  {
   "cell_type": "code",
   "execution_count": 10,
   "metadata": {
    "slideshow": {
     "slide_type": "-"
    }
   },
   "outputs": [
    {
     "name": "stdout",
     "output_type": "stream",
     "text": [
      "Enter n> 10\n",
      "[2, 3, 4, 5, 6, 7, 8, 9]\n",
      "[2, 3, 5, 7]\n"
     ]
    }
   ],
   "source": [
    "# in class\n",
    "n = int(input(\"Enter n> \"))\n",
    "myList = []\n",
    "# Fill the list with all numbers between 2 and n inclusive\n",
    "for k in range(2, n):\n",
    "    myList.append(k)\n",
    "print(myList)\n",
    "\n",
    "\n",
    "\n",
    "\n",
    "# loop over the array to remove multiple of 2 then 3, 5 and so on\n",
    "\n",
    "for i in range(2,n+1):\n",
    "    for j in myList:\n",
    "        if j % i == 0 and j != i:\n",
    "            myList.remove(j)\n",
    "\n",
    "# print myList\n",
    "\n",
    "print(myList)\n"
   ]
  },
  {
   "cell_type": "code",
   "execution_count": null,
   "metadata": {},
   "outputs": [],
   "source": []
  }
 ],
 "metadata": {
  "celltoolbar": "Slideshow",
  "kernelspec": {
   "display_name": "Python 3 (ipykernel)",
   "language": "python",
   "name": "python3"
  },
  "language_info": {
   "codemirror_mode": {
    "name": "ipython",
    "version": 3
   },
   "file_extension": ".py",
   "mimetype": "text/x-python",
   "name": "python",
   "nbconvert_exporter": "python",
   "pygments_lexer": "ipython3",
   "version": "3.10.9"
  },
  "rise": {
   "theme": "yellow"
  },
  "toc": {
   "base_numbering": 1,
   "nav_menu": {},
   "number_sections": true,
   "sideBar": true,
   "skip_h1_title": false,
   "title_cell": "Table of Contents",
   "title_sidebar": "Contents",
   "toc_cell": false,
   "toc_position": {},
   "toc_section_display": true,
   "toc_window_display": false
  },
  "varInspector": {
   "cols": {
    "lenName": 16,
    "lenType": 16,
    "lenVar": 40
   },
   "kernels_config": {
    "python": {
     "delete_cmd_postfix": "",
     "delete_cmd_prefix": "del ",
     "library": "var_list.py",
     "varRefreshCmd": "print(var_dic_list())"
    },
    "r": {
     "delete_cmd_postfix": ") ",
     "delete_cmd_prefix": "rm(",
     "library": "var_list.r",
     "varRefreshCmd": "cat(var_dic_list()) "
    }
   },
   "types_to_exclude": [
    "module",
    "function",
    "builtin_function_or_method",
    "instance",
    "_Feature"
   ],
   "window_display": false
  }
 },
 "nbformat": 4,
 "nbformat_minor": 4
}
