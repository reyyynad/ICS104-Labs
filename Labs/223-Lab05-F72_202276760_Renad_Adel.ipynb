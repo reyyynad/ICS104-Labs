{
 "cells": [
  {
   "cell_type": "markdown",
   "metadata": {
    "slideshow": {
     "slide_type": "slide"
    }
   },
   "source": [
    "# ICS 104 - Introduction to Programming in Python and C\n",
    "## 223-Lab05-Decision Structures 2"
   ]
  },
  {
   "cell_type": "markdown",
   "metadata": {
    "slideshow": {
     "slide_type": "fragment"
    }
   },
   "source": [
    "# Lab Learning Outcomes\n",
    "- To learn how to program simple and complex decisions. \n",
    "- To implement decisions using if statements\n",
    "- To write statements using Boolean expressions\n",
    "- To validate user input"
   ]
  },
  {
   "cell_type": "markdown",
   "metadata": {
    "slideshow": {
     "slide_type": "slide"
    }
   },
   "source": [
    "# Exercises"
   ]
  },
  {
   "cell_type": "raw",
   "metadata": {},
   "source": []
  },
  {
   "cell_type": "markdown",
   "metadata": {
    "cell_style": "center",
    "slideshow": {
     "slide_type": "slide"
    }
   },
   "source": [
    "### Exercise 1\n",
    "A year with 366 days is called a leap year. Leap years are necessary to keep the calendar\n",
    "synchronized with the sun because the earth revolves around the sun once\n",
    "every 365.25 days. Actually, that figure is not entirely precise, and for all dates after\n",
    "1582 the Gregorian correction applies. Usually years that are divisible by 4 are leap\n",
    "years (for example, 1996). However, years that are divisible by 100 (for example,\n",
    "1900) are not leap years, but years that are divisible by 400 are leap years (for example,\n",
    "2000). Write a program that asks the user for a year and computes whether that\n",
    "year is a leap year. Use a single if statement and Boolean operators.\n",
    "\n",
    "````\n",
    "\n",
    "divisible by 4 but not divisible by 100  -->  a leap year\n",
    "\n",
    "divisible by 400                         -->  a leap year\n",
    "\n",
    "otherwise                                -->  not a leap year\n",
    "```"
   ]
  },
  {
   "cell_type": "code",
   "execution_count": 3,
   "metadata": {
    "nbgrader": {
     "grade": false,
     "grade_id": "cell-831668a818326720",
     "locked": false,
     "schema_version": 1,
     "solution": true
    },
    "slideshow": {
     "slide_type": "fragment"
    }
   },
   "outputs": [
    {
     "name": "stdout",
     "output_type": "stream",
     "text": [
      "Enter a year: 1996\n",
      "a leap year\n"
     ]
    }
   ],
   "source": [
    "# Write a program that asks the user for a year and computes whether that year is a leap year.\n",
    "# the user should enter a year\n",
    "year = int(input(\"Enter a year: \"))\n",
    "\n",
    "#divisible by 4 but not divisible by 100\n",
    "if (year % 4) == 0 and (year % 100) != 0:\n",
    "    print(\"a leap year\")\n",
    "    \n",
    "#divisible by 400    \n",
    "elif year % 400 == 0:\n",
    "    print(\"a leap year\")\n",
    "    \n",
    "#otherwise\n",
    "else:\n",
    "    print(\"not a leap year\")\n",
    "\n"
   ]
  },
  {
   "cell_type": "markdown",
   "metadata": {
    "slideshow": {
     "slide_type": "slide"
    }
   },
   "source": [
    "### Exercise 2\n",
    "When two points in time are compared, each given as hours (in military time, ranging\n",
    "from 0 to 23) and minutes, the following pseudocode determines which comes first.\n",
    "\n",
    "If hour1 < hour2\n",
    "\n",
    ">time1 comes first.\n",
    "\n",
    "Else if hour1 and hour2 are the same\n",
    "\n",
    ">If minute1 < minute2\n",
    "\n",
    ">>time1 comes first.\n",
    "\n",
    ">Else if minute1 and minute2 are the same\n",
    "\n",
    ">>time1 and time2 are the same.\n",
    "\n",
    ">Else\n",
    "\n",
    ">>time2 comes first.\n",
    "\n",
    "Else\n",
    "\n",
    ">time2 comes first.\n",
    "\n",
    "Write a program that prompts the user for two points in time and prints the time that\n",
    "comes first, then the other time."
   ]
  },
  {
   "cell_type": "code",
   "execution_count": 6,
   "metadata": {
    "nbgrader": {
     "grade": false,
     "grade_id": "cell-49086fa4c5681df1",
     "locked": false,
     "schema_version": 1,
     "solution": true
    },
    "slideshow": {
     "slide_type": "fragment"
    }
   },
   "outputs": [
    {
     "name": "stdout",
     "output_type": "stream",
     "text": [
      "Enter the first hour in military time: 27\n",
      "Enter the first minutes: 21\n",
      "Enter the second hour in military time: 23\n",
      "Enter the second minutes: 23\n",
      "time2 comes first\n"
     ]
    }
   ],
   "source": [
    "# Write a program that prompts the user for two points in time and prints the time that comes first, then the other time.\n",
    "\n",
    "# the user should enter the hours and minutes for both times.\n",
    "hour1 = int(input(\"Enter the first hour in military time: \"))\n",
    "minute1 = int(input(\"Enter the first minutes: \"))\n",
    "hour2 = int(input(\"Enter the second hour in military time: \"))\n",
    "minute2 = int(input(\"Enter the second minutes: \"))\n",
    "\n",
    "if hour1 < hour2:\n",
    "    print(\"time1 comes first\")\n",
    "else:\n",
    "    if hour1 == hour2:\n",
    "        if minute1 < minute2:\n",
    "            print(\"time1 comes first\")\n",
    "        else:\n",
    "            if minute1 == minute2:\n",
    "                print(\"time1 and time2 are the same\")\n",
    "            else:\n",
    "                print(\"time2 comes first\")\n",
    "    else:\n",
    "        print(\"time2 comes first\")\n"
   ]
  },
  {
   "cell_type": "markdown",
   "metadata": {
    "cell_style": "center",
    "slideshow": {
     "slide_type": "slide"
    }
   },
   "source": [
    "### Exercise 3\n",
    "Write a program that prompts the user to enter\n",
    "the month and year and displays the number of days in the month. For example, if\n",
    "the user entered month 2 and year 2012, the program should display that February\n",
    "2012 has 29 days. If the user entered month 3 and year 2015, the program should\n",
    "display that March 2015 has 31 days."
   ]
  },
  {
   "cell_type": "code",
   "execution_count": 5,
   "metadata": {
    "nbgrader": {
     "grade": false,
     "grade_id": "cell-923fd2d90ef69ff6",
     "locked": false,
     "schema_version": 1,
     "solution": true
    },
    "slideshow": {
     "slide_type": "fragment"
    }
   },
   "outputs": [
    {
     "name": "stdout",
     "output_type": "stream",
     "text": [
      "Enter the number of the month: 2\n",
      "Enter the year: 2012\n",
      "February 2012 has 29 days\n"
     ]
    }
   ],
   "source": [
    "# Write a program that prompts the user to enter the month and year and displays the number of days in the month.\n",
    "\n",
    "# the user should enter the month and year as numbers\n",
    "month = int(input(\"Enter the number of the month: \"))\n",
    "year = int(input(\"Enter the year: \"))\n",
    "\n",
    "if month == 1:\n",
    "    print(\"January\", year, \"has 31 days\")\n",
    "    \n",
    "#February has 29 days if it is a leap year, otherwise it has 28 days\n",
    "elif month == 2: \n",
    "    if (year % 400 == 0) or (year % 4) == 0 and (year % 100) != 0:\n",
    "         print(\"February\", year, \"has 29 days\")\n",
    "    else:\n",
    "        print(\"February\", year, \"has 28 days\")\n",
    "elif month == 3:\n",
    "    print(\"March\", year, \"has 31 days\")\n",
    "elif month == 4:\n",
    "    print(\"April\", year, \"has 30 days\")\n",
    "elif month == 5:\n",
    "    print(\"May\", year, \"has 31 days\")\n",
    "elif month == 6:\n",
    "    print(\"June\", year, \"has 30 days\")\n",
    "elif month == 7:\n",
    "    print(\"July\", year, \"has 31 days\")\n",
    "elif month == 8:\n",
    "    print(\"August\", year, \"has 31 days\")\n",
    "elif month == 9:\n",
    "    print(\"September\", year, \"has 30 days\")\n",
    "elif month == 10:\n",
    "    print(\"October\", year, \"has 31 days\")\n",
    "elif month == 11:\n",
    "    print(\"November\", year, \"has 30 days\")\n",
    "elif month == 12:\n",
    "    print(\"December\", year, \"has 31 days\")\n"
   ]
  },
  {
   "cell_type": "markdown",
   "metadata": {},
   "source": [
    "### Exercise 4\n",
    "Write a program that reads in the hourly wage of an employee. Then ask how many hours the employee worked in the past week. Compute the pay. Any overtime work (over 40 hours per week) is paid at 150 percent of the regular wage. Print a paycheck for the employee.  \n",
    "  \n",
    "|<strong>Sample Run:</strong>|<strong>Sample Run:</strong>|\n",
    "| :------------------------- | :------------------------- |\n",
    "| Enter your salary: 10   | Enter your salary: 10  |\n",
    "| Enter the number of worked hours: 30|Enter the number of worked hours: 50|\n",
    "| Your payment is 300|Your payment is 550|"
   ]
  },
  {
   "cell_type": "code",
   "execution_count": 6,
   "metadata": {},
   "outputs": [
    {
     "name": "stdout",
     "output_type": "stream",
     "text": [
      "Enter your salary: 50\n",
      "Enter the number of worked hours: 60\n",
      "Your payment is 3500.0\n"
     ]
    }
   ],
   "source": [
    "# Write a program that reads in the hourly wage of an employee.\n",
    "\n",
    "# the user should enter their salary and worked hours.\n",
    "salary = int(input(\"Enter your salary: \"))\n",
    "workedHours = int(input(\"Enter the number of worked hours: \"))\n",
    "\n",
    "if workedHours > 40:\n",
    "    payment = 40 * salary  + ((workedHours - 40) * 1.5 * salary)\n",
    "else:\n",
    "    payment  = workedHours * salary\n",
    "# print the result\n",
    "print(\"Your payment is\", payment)"
   ]
  },
  {
   "cell_type": "code",
   "execution_count": null,
   "metadata": {},
   "outputs": [],
   "source": []
  }
 ],
 "metadata": {
  "celltoolbar": "Slideshow",
  "kernelspec": {
   "display_name": "Python 3 (ipykernel)",
   "language": "python",
   "name": "python3"
  },
  "language_info": {
   "codemirror_mode": {
    "name": "ipython",
    "version": 3
   },
   "file_extension": ".py",
   "mimetype": "text/x-python",
   "name": "python",
   "nbconvert_exporter": "python",
   "pygments_lexer": "ipython3",
   "version": "3.10.9"
  },
  "rise": {
   "theme": "yellow"
  },
  "toc": {
   "base_numbering": 1,
   "nav_menu": {},
   "number_sections": true,
   "sideBar": true,
   "skip_h1_title": false,
   "title_cell": "Table of Contents",
   "title_sidebar": "Contents",
   "toc_cell": false,
   "toc_position": {
    "height": "131px",
    "left": "781px",
    "top": "290px",
    "width": "221px"
   },
   "toc_section_display": true,
   "toc_window_display": false
  },
  "varInspector": {
   "cols": {
    "lenName": 16,
    "lenType": 16,
    "lenVar": 40
   },
   "kernels_config": {
    "python": {
     "delete_cmd_postfix": "",
     "delete_cmd_prefix": "del ",
     "library": "var_list.py",
     "varRefreshCmd": "print(var_dic_list())"
    },
    "r": {
     "delete_cmd_postfix": ") ",
     "delete_cmd_prefix": "rm(",
     "library": "var_list.r",
     "varRefreshCmd": "cat(var_dic_list()) "
    }
   },
   "types_to_exclude": [
    "module",
    "function",
    "builtin_function_or_method",
    "instance",
    "_Feature"
   ],
   "window_display": false
  }
 },
 "nbformat": 4,
 "nbformat_minor": 4
}
