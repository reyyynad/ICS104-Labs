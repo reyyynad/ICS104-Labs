{
 "cells": [
  {
   "cell_type": "markdown",
   "metadata": {
    "slideshow": {
     "slide_type": "slide"
    }
   },
   "source": [
    "### ICS 104 - Introduction to Programming in Python and C\n",
    "# 223-Lab02-Variables, Strings, and Arithmetic Operations 1"
   ]
  },
  {
   "cell_type": "markdown",
   "metadata": {
    "slideshow": {
     "slide_type": "slide"
    }
   },
   "source": [
    "## Lab Learning Outcomes"
   ]
  },
  {
   "cell_type": "markdown",
   "metadata": {
    "slideshow": {
     "slide_type": "fragment"
    }
   },
   "source": [
    "- Apply problem solving in program development\n",
    "- Comprehend variables and types\n",
    "- Write python expressions"
   ]
  },
  {
   "cell_type": "markdown",
   "metadata": {
    "slideshow": {
     "slide_type": "slide"
    }
   },
   "source": [
    "## Problem Solving"
   ]
  },
  {
   "cell_type": "markdown",
   "metadata": {
    "slideshow": {
     "slide_type": "fragment"
    }
   },
   "source": [
    "- One technique to apply problem solving is to do the following\n",
    "    - Read the problem statement and understand it fully.\n",
    "    - Determine **what** needs to be done\n",
    "        - The available **`input`** and the requested result (**`output`**).\n",
    "        - The sequence of **steps** to be carried out before we can produce the **`output`**.\n",
    "            - Don't worry about how to do it for now.\n",
    "    - Develop and describe the **algorithm** in pseudo-code (**how** to carry out the above **steps**).\n",
    "        - An algorithm is a **sequence** of steps that is **unambiguous**, **executable**, and **terminating**. \n",
    "    - Test the algorithm with simple inputs\n",
    "        - to have more confidence that it is correct.\n",
    "    - Translate the pseudo code into a Python program.\n",
    "    - Compile and test your program."
   ]
  },
  {
   "cell_type": "markdown",
   "metadata": {},
   "source": [
    "## Exercises"
   ]
  },
  {
   "cell_type": "markdown",
   "metadata": {
    "slideshow": {
     "slide_type": "slide"
    }
   },
   "source": [
    "### Exercise 1\n",
    "Write a program that displays the dimensions of a letter-size (8.5 × 11 inch) sheet of paper in millimeters. There are 25.4 millimeters per inch. Use constants and comments in your program."
   ]
  },
  {
   "cell_type": "code",
   "execution_count": 8,
   "metadata": {
    "slideshow": {
     "slide_type": "fragment"
    }
   },
   "outputs": [
    {
     "name": "stdout",
     "output_type": "stream",
     "text": [
      "Enter the height in inches: 11\n",
      "Enter the width in inches: 8.5\n",
      "height in millimeter=  279.4\n",
      "width in millimeter=  215.89999999999998\n"
     ]
    }
   ],
   "source": [
    "#This program will display the dimensions of a letter-size paper\n",
    "inch = 25.4\n",
    "height_in_inches = float(input(\"Enter the height in inches: \"))\n",
    "width_in_inches = float(input(\"Enter the width in inches: \"))\n",
    "height_in_milli = height_in_inches * inch\n",
    "width_in_milli = width_in_inches * inch\n",
    "print(\"height in millimeter= \", height_in_milli)\n",
    "print(\"width in millimeter= \", width_in_milli)\n",
    "\n"
   ]
  },
  {
   "cell_type": "markdown",
   "metadata": {
    "slideshow": {
     "slide_type": "slide"
    }
   },
   "source": [
    "### Exercise 2\n",
    "Write a program that breaks a five-digit positive integer (such as 16384) into a sequence of individual digits.\n",
    "\n",
    "For example, the number 16384 is displayed as\n",
    "      \n",
    "1 6 3 8 4"
   ]
  },
  {
   "cell_type": "code",
   "execution_count": 16,
   "metadata": {},
   "outputs": [
    {
     "name": "stdout",
     "output_type": "stream",
     "text": [
      "Enter a five digit positive integer: 16384\n",
      "1 6 3 8 4\n"
     ]
    }
   ],
   "source": [
    "digit = int(input(\"Enter a five digit positive integer: \"))\n",
    "digit_1 = digit // 10000\n",
    "digit_2 = digit // 1000\n",
    "digit_2 = digit_2 % 10\n",
    "digit_3 = digit // 100\n",
    "digit_3 = digit_3 % 10\n",
    "digit_4 = digit % 100\n",
    "digit_4 = digit_4 // 10\n",
    "digit_5 = digit % 10\n",
    "print(digit_1, digit_2, digit_3, digit_4, digit_5)\n",
    "\n"
   ]
  },
  {
   "cell_type": "code",
   "execution_count": null,
   "metadata": {},
   "outputs": [],
   "source": [
    "#update: put them in one line \n",
    "# write your code here\n",
    "number = int(input(\"Enter a five-digit positive integer\"))\n",
    "digit1 = number // 10000\n",
    "digit2 = number // 1000 % 10\n",
    "digit3 = number // 100 % 10\n",
    "digit4 = number // 10 % 10\n",
    "digit5 = number % 10\n",
    "print(digit1, digit2, digit3, digit4, digit5)"
   ]
  },
  {
   "cell_type": "markdown",
   "metadata": {
    "slideshow": {
     "slide_type": "slide"
    }
   },
   "source": [
    "### Exercise 3\n",
    "Easter Sunday is the first Sunday after the first full moon of spring. To compute\n",
    "the date, you can use this algorithm, invented by the mathematician Carl Friedrich\n",
    "Gauss in 1800:\n",
    "1. Let y be the year (such as 2001).\n",
    "2. Divide y by 19 and call the remainder a. Ignore the quotient.\n",
    "3. Divide y by 100 to get a quotient b and a remainder c.\n",
    "4. Divide b by 4 to get a quotient d and a remainder e.\n",
    "5. Divide 8 * b + 13 by 25 to get a quotient g. Ignore the remainder.\n",
    "6. Divide 19 * a + b - d - g + 15 by 30 to get a remainder h. Ignore the quotient.\n",
    "7. Divide c by 4 to get a quotient j and a remainder k.\n",
    "8. Divide a + 11 * h by 319 to get a quotient m. Ignore the remainder.\n",
    "9. Divide 2 * e + 2 * j - k - h + m + 32 by 7 to get a remainder r. Ignore the quotient.\n",
    "10. Divide h - m + r + 90 by 25 to get a quotient n. Ignore the remainder.\n",
    "11. Divide h - m + r + n + 19 by 32 to get a remainder p. Ignore the quotient.\n",
    "\n",
    "Then Easter falls on day p of month n. For example, if y is 2001:\n",
    "- a = 6\n",
    "- g = 6\n",
    "- m = 0\n",
    "- n = 4\n",
    "- b = 20\n",
    "- c = 1\n",
    "- h = 18\n",
    "- r = 6\n",
    "- p = 15\n",
    "- d = 5\n",
    "- e = 0\n",
    "- j = 0\n",
    "- k = 1\n",
    "\n",
    "Therefore, in 2001, Easter Sunday fell on April 15. \n",
    "\n",
    "Write a program that prints out the month and day of Easter Sunday."
   ]
  },
  {
   "cell_type": "code",
   "execution_count": 18,
   "metadata": {},
   "outputs": [
    {
     "name": "stdout",
     "output_type": "stream",
     "text": [
      "Enter the year: 2001\n",
      "Therefore, in 2001 Easter Sunday fell on 4 15\n"
     ]
    }
   ],
   "source": [
    "y = int(input(\"Enter the year: \")) #Let y be the year (such as 2001).\n",
    "#Divide y by 19 and call the remainder a. Ignore the quotient.\n",
    "a = y % 19 \n",
    "\n",
    "#Divide y by 100 to get a quotient b and a remainder c.\n",
    "b = y // 100\n",
    "c = y % 100\n",
    "\n",
    "#Divide b by 4 to get a quotient d and a remainder e.\n",
    "d = b // 4\n",
    "e = b % 4\n",
    "\n",
    "#Divide 8 * b + 13 by 25 to get a quotient g. Ignore the remainder.\n",
    "g = (8 * b + 13) // 25\n",
    "\n",
    "#Divide 19 * a + b - d - g + 15 by 30 to get a remainder h. Ignore the quotient.\n",
    "h = (19 * a + b - d - g + 15) % 30\n",
    "\n",
    "#Divide c by 4 to get a quotient j and a remainder k.\n",
    "j = c // 4\n",
    "k = c % 4\n",
    "\n",
    "#Divide a + 11 * h by 319 to get a quotient m. Ignore the remainder.\n",
    "m = (a + 11 * h) // 319\n",
    "\n",
    "#Divide 2 * e + 2 * j - k - h + m + 32 by 7 to get a remainder r. Ignore the quotient.\n",
    "r = (2 * e + 2 * j - k - h + m + 32 ) % 7\n",
    "\n",
    "#Divide h - m + r + 90 by 25 to get a quotient n. Ignore the remainder.\n",
    "n = (h - m + r + 90) // 25\n",
    "\n",
    "#Divide h - m + r + n + 19 by 32 to get a remainder p. Ignore the quotient.\n",
    "p = (h - m + r + n + 19) % 32\n",
    "print(\"Therefore, in\", y, \"Easter Sunday fell on\", n, p)"
   ]
  },
  {
   "cell_type": "code",
   "execution_count": null,
   "metadata": {},
   "outputs": [],
   "source": []
  }
 ],
 "metadata": {
  "celltoolbar": "Slideshow",
  "kernelspec": {
   "display_name": "Python 3 (ipykernel)",
   "language": "python",
   "name": "python3"
  },
  "language_info": {
   "codemirror_mode": {
    "name": "ipython",
    "version": 3
   },
   "file_extension": ".py",
   "mimetype": "text/x-python",
   "name": "python",
   "nbconvert_exporter": "python",
   "pygments_lexer": "ipython3",
   "version": "3.10.9"
  },
  "toc": {
   "base_numbering": 1,
   "nav_menu": {},
   "number_sections": true,
   "sideBar": true,
   "skip_h1_title": false,
   "title_cell": "Table of Contents",
   "title_sidebar": "Contents",
   "toc_cell": false,
   "toc_position": {},
   "toc_section_display": true,
   "toc_window_display": false
  },
  "varInspector": {
   "cols": {
    "lenName": 16,
    "lenType": 16,
    "lenVar": 40
   },
   "kernels_config": {
    "python": {
     "delete_cmd_postfix": "",
     "delete_cmd_prefix": "del ",
     "library": "var_list.py",
     "varRefreshCmd": "print(var_dic_list())"
    },
    "r": {
     "delete_cmd_postfix": ") ",
     "delete_cmd_prefix": "rm(",
     "library": "var_list.r",
     "varRefreshCmd": "cat(var_dic_list()) "
    }
   },
   "types_to_exclude": [
    "module",
    "function",
    "builtin_function_or_method",
    "instance",
    "_Feature"
   ],
   "window_display": false
  }
 },
 "nbformat": 4,
 "nbformat_minor": 4
}
