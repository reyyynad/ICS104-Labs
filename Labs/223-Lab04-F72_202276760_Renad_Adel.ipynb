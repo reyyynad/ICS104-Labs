{
 "cells": [
  {
   "cell_type": "markdown",
   "metadata": {
    "slideshow": {
     "slide_type": "slide"
    }
   },
   "source": [
    "# ICS 104 - Introduction to Programming in Python and C\n",
    "## 223-Lab04-Decision Structures 1 "
   ]
  },
  {
   "cell_type": "markdown",
   "metadata": {
    "slideshow": {
     "slide_type": "fragment"
    }
   },
   "source": [
    "# Lab Learning Outcomes\n",
    "- To learn how to program simple and complex decisions. \n",
    "- To implement decisions using if statements\n",
    "- To write statements using Boolean expressions"
   ]
  },
  {
   "cell_type": "markdown",
   "metadata": {
    "slideshow": {
     "slide_type": "slide"
    }
   },
   "source": [
    "# Exercises  "
   ]
  },
  {
   "cell_type": "markdown",
   "metadata": {},
   "source": [
    "### Exercise 1\n",
    "Write a program that reads in three integers and prints them in ascending order.<br>\n",
    "<br>\n",
    "Here is a sample run.<br>\n",
    "\n",
    "Enter three integers:<br>\n",
    "1 5 2<br>\n",
    "in ascending order: 1 2 5<br>\n",
    "\n",
    "Enter three integers:<br>\n",
    "1 5 1<br>\n",
    "in ascending order: 1 1 5<br>\n",
    "\n",
    "Enter three integers:<br>\n",
    "5 5 2<br>\n",
    "in ascending order: 2 5 5<br>"
   ]
  },
  {
   "cell_type": "code",
   "execution_count": 15,
   "metadata": {},
   "outputs": [
    {
     "name": "stdout",
     "output_type": "stream",
     "text": [
      "Enter the first integer: 3\n",
      "Enter the second integer: 2\n",
      "Enter the third integer: 1\n",
      "in ascending order: 1 2 3\n"
     ]
    }
   ],
   "source": [
    "# Exercise # 1 - Source Code \n",
    "# Write a program that reads in three integers and prints them in ascending order. xyz xzy yxz yzx zxy zyx\n",
    "x = int(input(\"Enter the first integer: \"))\n",
    "y = int(input(\"Enter the second integer: \"))\n",
    "z = int(input(\"Enter the third integer: \")) \n",
    "if x <= y <= z:\n",
    "    print(\"in ascending order:\", x, y, z)\n",
    "elif x <= z <= y:\n",
    "        print(\"in ascending order:\", x, z, y)\n",
    "elif y <= x <= z:\n",
    "        print(\"in ascending order:\", y, x, z)\n",
    "elif y <= z <= x:\n",
    "        print(\"in ascending order:\", y, z, x)\n",
    "elif z <= x <= y:\n",
    "        print(\"in ascending order:\", z, x, y) \n",
    "elif z <= y <= x:\n",
    "        print(\"in ascending order:\", z, y, x)\n",
    "\n",
    "    \n",
    "\n",
    "\n"
   ]
  },
  {
   "cell_type": "markdown",
   "metadata": {
    "slideshow": {
     "slide_type": "slide"
    }
   },
   "source": [
    "## Exercise 2\n",
    "Write a program that translates a letter grade into a number grade. Letter grades are\n",
    "A+, A, B+, B, C+, C, D+, D, and F. \n",
    "Their numeric values are 4, 3.75, 3.5, 3, 2.5, 2, 1.5, 1, and 0.<br>\n",
    "<br>\n",
    "Here is a sample run.<br>\n",
    "\n",
    "Enter a letter grade: B+<br>\n",
    "The numeric value is 3.5<br>\n",
    "<br>\n",
    "Enter a letter grade: X<br>\n",
    "Invalid letter grade<br>"
   ]
  },
  {
   "cell_type": "code",
   "execution_count": 18,
   "metadata": {
    "slideshow": {
     "slide_type": "-"
    }
   },
   "outputs": [
    {
     "name": "stdout",
     "output_type": "stream",
     "text": [
      "Enter a letter grade: B\n",
      "The numeric value is:  3\n"
     ]
    }
   ],
   "source": [
    "# Exercise # 2 - Source Code\n",
    "grade = input(\"Enter a letter grade: \") #The users must enter numeric grade\n",
    "if grade == \"A+\":\n",
    "    numeric_grade = 4\n",
    "    print(\"The numeric value is: \", numeric_grade)\n",
    "elif grade == \"A\":\n",
    "    numeric_grade = 3.75\n",
    "    print(\"The numeric value is: \", numeric_grade)\n",
    "elif grade == \"B+\":\n",
    "    numeric_grade = 3.5\n",
    "    print(\"The numeric value is: \", numeric_grade)\n",
    "elif grade == \"B\":\n",
    "    numeric_grade = 3\n",
    "    print(\"The numeric value is: \", numeric_grade)\n",
    "elif grade == \"C+\":\n",
    "    numeric_grade = 2.5\n",
    "    print(\"The numeric value is: \", numeric_grade)\n",
    "elif grade == \"C\":\n",
    "    numeric_grade = 2\n",
    "    print(\"The numeric value is: \", numeric_grade)\n",
    "elif grade == \"D+\":\n",
    "    numeric_grade = 1.5\n",
    "    print(\"The numeric value is: \", numeric_grade)\n",
    "elif grade == \"D\":\n",
    "    numeric_grade = 1\n",
    "    print(\"The numeric value is: \", numeric_grade)\n",
    "elif grade == \"F\":\n",
    "    numeric_grade = 0\n",
    "    print(\"The numeric value is: \", numeric_grade)\n",
    "else: \n",
    "    print(\"Invalid letter grade\")\n",
    "\n",
    "\n"
   ]
  },
  {
   "cell_type": "markdown",
   "metadata": {},
   "source": [
    "## Exercise 3\n",
    "When you use an automated teller machine (ATM) with your bank card, you need to\n",
    "use a personal identification number (PIN) to access your account. If a user fails\n",
    "more than three times when entering the PIN, the machine will block the card.\n",
    "Assume that the user's PIN is \"1234\" and write a program that asks the user for the\n",
    "PIN no more than three times, and does the following:\n",
    "- If the user enters the right number, print a message saying, \"Your PIN is correct\", and end the program.\n",
    "- If the user enters a wrong number, print a message saying, \"Your PIN is incorrect\" and, if you have asked for the PIN less than three times, ask for it again.\n",
    "- If the user enters a wrong number three times, print a message saying \"Your bank card is blocked\" and end the program."
   ]
  },
  {
   "cell_type": "code",
   "execution_count": 1,
   "metadata": {},
   "outputs": [
    {
     "name": "stdout",
     "output_type": "stream",
     "text": [
      "Enter your PIN: 1233\n",
      "Your PIN is incorrect\n",
      "Enter your PIN: 1233\n",
      "Your PIN is incorrect\n",
      "Enter your PIN: 1233\n",
      "Your bank card is blocked\n"
     ]
    }
   ],
   "source": [
    "# Exercise # 3 - Source Code\n",
    "PIN = input(\"Enter your PIN: \")\n",
    "user_PIN = \"1234\"\n",
    "if PIN == user_PIN:   # Go step by step\n",
    "    print(\"Your PIN is correct\")\n",
    "else:\n",
    "    print(\"Your PIN is incorrect\")\n",
    "    PIN = input(\"Enter your PIN: \")\n",
    "    if PIN == user_PIN:\n",
    "        print(\"Your PIN is correct\")\n",
    "    else:\n",
    "        print(\"Your PIN is incorrect\")\n",
    "        PIN = input(\"Enter your PIN: \")\n",
    "        if PIN == user_PIN:\n",
    "            print(\"Your PIN is correct\") \n",
    "        else: \n",
    "            print(\"Your bank card is blocked\" )\n",
    "\n",
    "\n",
    "    \n",
    "    \n"
   ]
  },
  {
   "cell_type": "markdown",
   "metadata": {},
   "source": [
    "## Exercise 4\n",
    "In a classic chase, Tom is running after Jerry as Jerry has eaten Tom's favourite food.\n",
    "Jerry is running at a speed of XX metres per second while Tom is chasing him at a speed of YY metres per second. Determine whether Tom will be able to catch Jerry.\n",
    "Note that initially Jerry is not at the same position as Tom.\n",
    "System.out.println(a<b?\"YES\":\"NO\");\n"
   ]
  },
  {
   "cell_type": "code",
   "execution_count": 43,
   "metadata": {},
   "outputs": [
    {
     "name": "stdout",
     "output_type": "stream",
     "text": [
      "Enter Jerry's speed: 4\n",
      "Enter Tom's speed: 3\n",
      "tom will not catch\n"
     ]
    }
   ],
   "source": [
    "jerry = int(input(\"Enter Jerry's speed: \"))\n",
    "tom =  int(input(\"Enter Tom's speed: \"))\n",
    "if (tom > jerry) :\n",
    "    print(\"Tom will catch jerry\")\n",
    "else:\n",
    "    print(\"tom will not catch\")"
   ]
  },
  {
   "cell_type": "code",
   "execution_count": null,
   "metadata": {},
   "outputs": [],
   "source": []
  }
 ],
 "metadata": {
  "celltoolbar": "Slideshow",
  "kernelspec": {
   "display_name": "Python 3 (ipykernel)",
   "language": "python",
   "name": "python3"
  },
  "language_info": {
   "codemirror_mode": {
    "name": "ipython",
    "version": 3
   },
   "file_extension": ".py",
   "mimetype": "text/x-python",
   "name": "python",
   "nbconvert_exporter": "python",
   "pygments_lexer": "ipython3",
   "version": "3.10.9"
  },
  "rise": {
   "theme": "yellow"
  },
  "toc": {
   "base_numbering": 1,
   "nav_menu": {},
   "number_sections": true,
   "sideBar": true,
   "skip_h1_title": false,
   "title_cell": "Table of Contents",
   "title_sidebar": "Contents",
   "toc_cell": false,
   "toc_position": {
    "height": "131px",
    "left": "781px",
    "top": "290px",
    "width": "221px"
   },
   "toc_section_display": true,
   "toc_window_display": false
  },
  "varInspector": {
   "cols": {
    "lenName": 16,
    "lenType": 16,
    "lenVar": 40
   },
   "kernels_config": {
    "python": {
     "delete_cmd_postfix": "",
     "delete_cmd_prefix": "del ",
     "library": "var_list.py",
     "varRefreshCmd": "print(var_dic_list())"
    },
    "r": {
     "delete_cmd_postfix": ") ",
     "delete_cmd_prefix": "rm(",
     "library": "var_list.r",
     "varRefreshCmd": "cat(var_dic_list()) "
    }
   },
   "types_to_exclude": [
    "module",
    "function",
    "builtin_function_or_method",
    "instance",
    "_Feature"
   ],
   "window_display": false
  }
 },
 "nbformat": 4,
 "nbformat_minor": 4
}
