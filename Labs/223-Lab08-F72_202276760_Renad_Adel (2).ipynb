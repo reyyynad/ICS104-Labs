{
 "cells": [
  {
   "cell_type": "markdown",
   "metadata": {
    "slideshow": {
     "slide_type": "slide"
    }
   },
   "source": [
    "###### ICS 104 - Introduction to Programming in Python and C\n",
    "## 223-Lab08-Functions"
   ]
  },
  {
   "cell_type": "markdown",
   "metadata": {
    "slideshow": {
     "slide_type": "fragment"
    }
   },
   "source": [
    "# Lab Learning Outcomes\n",
    "- To be able to implement functions\n",
    "- To become familiar with the concept of parameter passing\n",
    "- To develop strategies for decomposing complex tasks into simpler ones"
   ]
  },
  {
   "cell_type": "markdown",
   "metadata": {
    "slideshow": {
     "slide_type": "slide"
    }
   },
   "source": [
    "# Exercises"
   ]
  },
  {
   "cell_type": "markdown",
   "metadata": {
    "cell_style": "center",
    "slideshow": {
     "slide_type": "slide"
    }
   },
   "source": [
    "## Exercise 1\n",
    "Write the function readPositiveInteger() that asks the user for a positive integer. If the entered input is not valid, loop until user enters a positive integer. The function returns the positive integer.\n",
    "Write the function printFactors(number) that prints out all factors of number. For example, when the user enters 150, the program should print\n",
    "\n",
    "factors of 150 are<br>\n",
    "1<br>\n",
    "2<br>\n",
    "3<br>\n",
    "5<br>\n",
    "6<br>\n",
    "10<br>\n",
    "15<br>\n",
    "25<br>\n",
    "30<br>\n",
    "50<br>\n",
    "75<br>\n",
    "150<br>"
   ]
  },
  {
   "cell_type": "code",
   "execution_count": 3,
   "metadata": {},
   "outputs": [
    {
     "name": "stdout",
     "output_type": "stream",
     "text": [
      "Enter a positive integer: b\n",
      "Enter a positive integer: -5\n",
      "Enter a positive integer: 150\n",
      "factors of 150 are\n",
      "1\n",
      "2\n",
      "3\n",
      "5\n",
      "6\n",
      "10\n",
      "15\n",
      "25\n",
      "30\n",
      "50\n",
      "75\n",
      "150\n"
     ]
    }
   ],
   "source": [
    "def valid():\n",
    "    n = input(\"Enter a positive integer: \")\n",
    "    while not n.isdigit():\n",
    "        n = input(\"Enter a positive integer: \")\n",
    "    return int(n)\n",
    "\n",
    "\n",
    "def factors(num):\n",
    "    for i in range(1, num + 1):\n",
    "        if num % i == 0:\n",
    "            print(i)\n",
    "        \n",
    "        \n",
    "        \n",
    "#main\n",
    "number = valid()\n",
    "print(\"factors of %d are\" % number)\n",
    "factors(150)\n",
    "\n",
    "        "
   ]
  },
  {
   "cell_type": "code",
   "execution_count": 1,
   "metadata": {
    "nbgrader": {
     "grade": false,
     "grade_id": "cell-831668a818326720",
     "locked": false,
     "schema_version": 1,
     "solution": true
    },
    "slideshow": {
     "slide_type": "fragment"
    }
   },
   "outputs": [
    {
     "name": "stdout",
     "output_type": "stream",
     "text": [
      "Enter a positive integer: 150\n",
      "Factors of 150 are\n",
      "1\n",
      "2\n",
      "3\n",
      "5\n",
      "6\n",
      "10\n",
      "15\n",
      "25\n",
      "30\n",
      "50\n",
      "75\n",
      "150\n"
     ]
    }
   ],
   "source": [
    "# Exercise # 1 - Source Code\n",
    "# complete the function readPositiveInteger\n",
    "def readPositiveInteger():\n",
    "    done = True\n",
    "    while done:\n",
    "        num = input(\"Enter a positive integer: \")\n",
    "        if num.isdigit():\n",
    "            num = int(num)\n",
    "            done = False\n",
    "        else:\n",
    "            done = True #continue\n",
    "    return num\n",
    "            \n",
    "            \n",
    "\n",
    "\n",
    "\n",
    "# complete the function printFactors\n",
    "def printFactors(number):\n",
    "    for i in range(1, number + 1):\n",
    "        if number % i == 0:\n",
    "            print(i)\n",
    "        \n",
    "\n",
    "\n",
    "\n",
    "\n",
    "# main\n",
    "number = readPositiveInteger() #for example 150\n",
    "print(\"Factors of %d are\" % number)\n",
    "printFactors(number) \n"
   ]
  },
  {
   "cell_type": "markdown",
   "metadata": {
    "slideshow": {
     "slide_type": "slide"
    }
   },
   "source": [
    "## Exercise 2\n",
    "A positive integer is called a perfect number if it is equal to the sum of all of its positive divisors, excluding itself. \n",
    "\n",
    "For example, 6 is the first perfect number because 6 = 3 + 2 + 1. The next is 28 = 14 + 7 + 4 + 2 + 1. There are four perfect numbers < 10,000. \n",
    "\n",
    "Write a program to find all these four numbers using the function isPerfectNumber(number) that returns True if the number is false and False otherwise.\n"
   ]
  },
  {
   "cell_type": "code",
   "execution_count": 3,
   "metadata": {},
   "outputs": [
    {
     "name": "stdout",
     "output_type": "stream",
     "text": [
      "Perfect numbers < 10000 are\n",
      "6\n",
      "28\n",
      "496\n",
      "8128\n"
     ]
    }
   ],
   "source": [
    "def isPerfectNumber(number):\n",
    "    total = 0\n",
    "    \n",
    "    for i in range(1, number): #excluding itself\n",
    "        if number % i == 0:\n",
    "            total = total + i\n",
    "    if number == total:\n",
    "        return True\n",
    "    else:\n",
    "        return False\n",
    "        \n",
    "print(\"Perfect numbers < 10000 are\")        \n",
    "for j in range(1, 10001):\n",
    "    if isPerfectNumber(j):\n",
    "        print(j)\n",
    "    \n",
    "        "
   ]
  },
  {
   "cell_type": "code",
   "execution_count": 4,
   "metadata": {
    "nbgrader": {
     "grade": false,
     "grade_id": "cell-49086fa4c5681df1",
     "locked": false,
     "schema_version": 1,
     "solution": true
    },
    "slideshow": {
     "slide_type": "fragment"
    }
   },
   "outputs": [
    {
     "name": "stdout",
     "output_type": "stream",
     "text": [
      "Perfect numbers < 10000 are\n",
      "6\n",
      "28\n",
      "496\n",
      "8128\n"
     ]
    }
   ],
   "source": [
    "# complete the function printFactors\n",
    "\n",
    "def isPerfectNumber(number): #This a function that counts the perfect numbers\n",
    "    total = 0\n",
    "    \n",
    "    for i in range(1, number): #sum of all positive divisors, excluding itself.\n",
    "        if number % i == 0: #divisors\n",
    "            total = i + total # total = total of its divisors\n",
    "            \n",
    "    if total == number: #after finding the total of all divisors we check if it's == the number or not\n",
    "        return True\n",
    "    else:\n",
    "        return False\n",
    "            \n",
    "    \n",
    "    \n",
    "\n",
    "# main\n",
    "print(\"Perfect numbers < 10000 are\")\n",
    "for number in range(6, 10000):\n",
    "    if isPerfectNumber(number): #return True or False\n",
    "        print(number)"
   ]
  },
  {
   "cell_type": "markdown",
   "metadata": {},
   "source": [
    "## Exercise 3\n",
    "A fraction is represented as an integer numerator and an integer denomerator. \n",
    "Write a program to read a fraction from the user and reduces it to the simplest form. Use functions in your solution.\n",
    "\n",
    "__Sample Run__\n",
    "\n",
    "Enter the numerator: 0<br>\n",
    "Enter the denomerator: 5<br>\n",
    "the simplest form is 0<br><br>\n",
    "\n",
    "__Sample Run__\n",
    "\n",
    "Enter the numerator: 10<br>\n",
    "Enter the denomerator: 0<br>\n",
    "the denomerator cannot be zero<br><br>\n",
    "\n",
    "__Sample Run__\n",
    "\n",
    "Enter the numerator: 20<br>\n",
    "Enter the denomerator: 5<br>\n",
    "the simplest form is 4<br><br>\n",
    "\n",
    "__Sample Run__\n",
    "\n",
    "Enter the numerator: 12<br>\n",
    "Enter the denomerator: 30<br>\n",
    "the simplest form is 2/5<br><br>\n",
    "\n",
    "__Sample Run__\n",
    "\n",
    "Enter the numerator: 7<br>\n",
    "Enter the denomerator: 11<br>\n",
    "the simplest form is 7/11<br><br>"
   ]
  },
  {
   "cell_type": "code",
   "execution_count": 3,
   "metadata": {},
   "outputs": [
    {
     "name": "stdout",
     "output_type": "stream",
     "text": [
      "Enter numerator: 100\n",
      "Enter denomerator: 2\n",
      "the simplest form is 50.0\n"
     ]
    }
   ],
   "source": [
    "def simplest(a, b):\n",
    "    for i in range(1, min(a,b) + 1):\n",
    "        if b % i == 0 and a % i == 0:\n",
    "            gcd = i\n",
    "    if a == 0:\n",
    "        print(\"the simplest form is zero\")\n",
    "    elif b == 0:\n",
    "        print(\"the denomerator cannot be zero\")\n",
    "    elif a >= b:\n",
    "        print(\"the simplest form is\", a / b)\n",
    "    else:\n",
    "        print(\"the simplest form is\", a//gcd, \"/\", b//gcd)\n",
    "        \n",
    "        \n",
    "\n",
    "\n",
    "x = int(input(\"Enter numerator: \"))\n",
    "y = int(input(\"Enter denomerator: \"))\n",
    "simplest(x,y)\n"
   ]
  },
  {
   "cell_type": "code",
   "execution_count": 5,
   "metadata": {},
   "outputs": [
    {
     "name": "stdout",
     "output_type": "stream",
     "text": [
      "Enter the numerator: 0\n",
      "Enter the denomerator: 1\n",
      "the simplest form is 0\n"
     ]
    }
   ],
   "source": [
    "def simplestForm(a, b): \n",
    "    for i in range(1, min(a, b) + 1): #the minimum to check the minimum number \n",
    "        if a % i == 0 and b % i == 0:\n",
    "            gcd = i       \n",
    "    return gcd\n",
    "\n",
    "# y = str(a // gcd) + \"/\" + str(b // gcd)\n",
    "a = int(input(\"Enter the numerator: \"))\n",
    "b = int(input(\"Enter the denomerator: \"))\n",
    "if b == 0:\n",
    "    print(\"the denomerator cannot be zero\")\n",
    "elif a == 0:\n",
    "    print(\"the simplest form is 0\")\n",
    "else: \n",
    "    y = simplestForm(a, b) #gcd\n",
    "    if b // y == 1:\n",
    "        print(\"the simplest form is\", a//y)\n",
    "    else:\n",
    "        print(\"the simplest form is\", a//y, \"/\", b//y)"
   ]
  },
  {
   "cell_type": "markdown",
   "metadata": {},
   "source": [
    "## Exercise 4\n",
    "Given a string that contains only digits, write a function that finds the sum of even digits in that string. In the main program call the method and print the result.\n",
    "\n",
    "__Sample Run1__\n",
    "\n",
    "Enter a string of digits> 123456  \n",
    "Sum of even digits is 12\n",
    "\n",
    "\n",
    "__Sample Run2__\n",
    "\n",
    "Enter a string of digits> 6642  \n",
    "Dum of even digits is 18\n",
    "\n",
    "\n",
    "__Sample Run2__\n",
    "\n",
    "Enter a string of digits> 79513  \n",
    "Sum of even digits is 0"
   ]
  },
  {
   "cell_type": "code",
   "execution_count": 9,
   "metadata": {},
   "outputs": [
    {
     "name": "stdout",
     "output_type": "stream",
     "text": [
      "Enter an integer: 422\n",
      "sum of even digits 8\n"
     ]
    }
   ],
   "source": [
    "def even(number):\n",
    "    \n",
    "    total = 0\n",
    "    for i in number:\n",
    "        i = int(i)\n",
    "        if i % 2 == 0:\n",
    "            total = total + i\n",
    "    return total\n",
    "            \n",
    "    \n",
    "    \n",
    "    \n",
    "    \n",
    "    \n",
    "    \n",
    "x = input(\"Enter an integer: \")\n",
    "print(\"sum of even digits\", even(x))\n",
    "    \n",
    "    "
   ]
  },
  {
   "cell_type": "markdown",
   "metadata": {},
   "source": [
    "## Example"
   ]
  },
  {
   "cell_type": "code",
   "execution_count": 61,
   "metadata": {},
   "outputs": [
    {
     "name": "stdout",
     "output_type": "stream",
     "text": [
      "Enter a string of digits> 6642\n",
      "Sum of even digits is 18\n"
     ]
    }
   ],
   "source": [
    "def evenDigits(a): #ex. 79513\n",
    "    \n",
    "    totalofEven = 0\n",
    "    for i in a: #ex. 7 9 5 1 3\n",
    "        i = int(i) #i is an integer!!\n",
    "        if i % 2 == 0:\n",
    "            totalofEven = totalofEven + i\n",
    "    return totalofEven\n",
    "        \n",
    "\n",
    "    \n",
    "x = input(\"Enter a string of digits> \")\n",
    "print(\"Sum of even digits is\", evenDigits(x))"
   ]
  },
  {
   "attachments": {
    "image.png": {
     "image/png": "[encoded data removed]"
    }
   },
   "cell_type": "markdown",
   "metadata": {},
   "source": [
    "![image.png](attachment:image.png)"
   ]
  },
  {
   "cell_type": "code",
   "execution_count": 1,
   "metadata": {},
   "outputs": [
    {
     "name": "stdout",
     "output_type": "stream",
     "text": [
      "Enter password> abcd1234\n",
      "Confirm password> Abj\n",
      "invalid Password. again\n",
      "Enter password> ABCD123a\n",
      "Confirm password> ABCD123b\n",
      "invalid Password. again\n",
      "Enter password> hello1234\n",
      "Confirm password> Hell\n",
      "invalid Password. again\n",
      "Enter password> Hello1234\n",
      "Confirm password> Hello1234\n",
      "Valid Password\n"
     ]
    }
   ],
   "source": [
    "def checkpassword (password,confirm):\n",
    "            \n",
    "    length=len(password)>=8\n",
    "    \n",
    "    upperletter = False\n",
    "    for c in password:\n",
    "        if c.isupper():\n",
    "            upperletter = True\n",
    "            \n",
    "    lowerletter = False\n",
    "    for c in password:\n",
    "        if c.islower():\n",
    "            lowerletter = True\n",
    "            \n",
    "    \n",
    "    digit = False\n",
    "    for c in password:\n",
    "        if c.isdigit():\n",
    "            digit = True\n",
    "            \n",
    "            \n",
    "    \n",
    "    match = password==confirm\n",
    "    \n",
    "    return match and length and upperletter and lowerletter and digit \n",
    "\n",
    "done = False\n",
    "\n",
    "while not done:\n",
    "    \n",
    "    password=input(\"Enter password> \")\n",
    "    confirm=input(\"Confirm password> \")\n",
    "    \n",
    "    done = checkpassword (password,confirm)\n",
    "    if not done:\n",
    "        print(\"invalid Password. again\")\n",
    "            \n",
    "print(\"Valid Password\")"
   ]
  },
  {
   "cell_type": "code",
   "execution_count": null,
   "metadata": {},
   "outputs": [],
   "source": [
    "\n",
    "\n",
    "\n",
    "def checkpassword ():\n",
    "            \n",
    "    Len=(len(password)>=8)\n",
    "    Upperletter=any(char.isupper() for char in password)\n",
    "    lowerletter=any(char.islower() for char in password)\n",
    "    digit=any(char.isdigit() for char in password)\n",
    "\n",
    "\n",
    "# In[ ]:\n",
    "\n",
    "\n",
    "password=input(\"enter password: \")\n",
    "confirm=input(\"enter your password again: \")\n",
    "\n",
    "Len=(len(password)>=8)\n",
    "Upperletter=any(char.isupper() for char in password)\n",
    "lowerletter=any(char.islower() for char in password)\n",
    "digit=any(char.isdigit() for char in password)\n",
    "\n",
    "done=False\n",
    "\n",
    "while not done:\n",
    "    \n",
    "    if password==confirm:\n",
    "    \n",
    "        while not Len  or not Upperletter or not lowerletter or not digit :\n",
    "            print(\"try again\")\n",
    "            \n",
    "            password=input(\"enter password: \")\n",
    "            confirm=input(\"enter your password again: \")\n",
    "\n",
    "            checkpassword ()\n",
    "            \n",
    "        print(\"done, your password is right\")\n",
    "        done=True\n",
    "        \n",
    "    else:\n",
    "\n",
    "        while password!=confirm:\n",
    "            print(\"try again\")\n",
    "            \n",
    "            password=input(\"enter password: \")\n",
    "            confirm=input(\"enter your password again: \")\n",
    "            \n",
    "            checkpassword ()\n",
    "\n"
   ]
  },
  {
   "cell_type": "code",
   "execution_count": null,
   "metadata": {},
   "outputs": [],
   "source": []
  },
  {
   "cell_type": "code",
   "execution_count": null,
   "metadata": {},
   "outputs": [],
   "source": []
  }
 ],
 "metadata": {
  "celltoolbar": "Slideshow",
  "kernelspec": {
   "display_name": "Python 3 (ipykernel)",
   "language": "python",
   "name": "python3"
  },
  "language_info": {
   "codemirror_mode": {
    "name": "ipython",
    "version": 3
   },
   "file_extension": ".py",
   "mimetype": "text/x-python",
   "name": "python",
   "nbconvert_exporter": "python",
   "pygments_lexer": "ipython3",
   "version": "3.10.9"
  },
  "rise": {
   "theme": "yellow"
  },
  "toc": {
   "base_numbering": 1,
   "nav_menu": {},
   "number_sections": true,
   "sideBar": true,
   "skip_h1_title": false,
   "title_cell": "Table of Contents",
   "title_sidebar": "Contents",
   "toc_cell": false,
   "toc_position": {
    "height": "131px",
    "left": "781px",
    "top": "290px",
    "width": "221px"
   },
   "toc_section_display": true,
   "toc_window_display": false
  },
  "varInspector": {
   "cols": {
    "lenName": 16,
    "lenType": 16,
    "lenVar": 40
   },
   "kernels_config": {
    "python": {
     "delete_cmd_postfix": "",
     "delete_cmd_prefix": "del ",
     "library": "var_list.py",
     "varRefreshCmd": "print(var_dic_list())"
    },
    "r": {
     "delete_cmd_postfix": ") ",
     "delete_cmd_prefix": "rm(",
     "library": "var_list.r",
     "varRefreshCmd": "cat(var_dic_list()) "
    }
   },
   "types_to_exclude": [
    "module",
    "function",
    "builtin_function_or_method",
    "instance",
    "_Feature"
   ],
   "window_display": false
  }
 },
 "nbformat": 4,
 "nbformat_minor": 4
}
