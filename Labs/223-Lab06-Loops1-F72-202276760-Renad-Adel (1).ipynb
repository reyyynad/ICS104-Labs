{
 "cells": [
  {
   "cell_type": "markdown",
   "metadata": {
    "slideshow": {
     "slide_type": "slide"
    }
   },
   "source": [
    "###### ICS 104 - Introduction to Programming in Python and C\n",
    "## 223-Lab06-Loops 1"
   ]
  },
  {
   "cell_type": "markdown",
   "metadata": {
    "slideshow": {
     "slide_type": "fragment"
    }
   },
   "source": [
    "# Lab Learning Outcomes\n",
    "- To learn how to program simple and complex loops. \n",
    "- To implement loops using while and for statements"
   ]
  },
  {
   "cell_type": "markdown",
   "metadata": {
    "slideshow": {
     "slide_type": "slide"
    }
   },
   "source": [
    "# Exercises"
   ]
  },
  {
   "cell_type": "markdown",
   "metadata": {
    "cell_style": "center",
    "slideshow": {
     "slide_type": "slide"
    }
   },
   "source": [
    "### Exercise 1\n",
    "Write a program that asks the user for an integer and then prints out all its factors. For example, when the user enters 150, the program should print\n",
    "\n",
    "150 = 2 x 3 x 5 x 5"
   ]
  },
  {
   "cell_type": "code",
   "execution_count": 6,
   "metadata": {},
   "outputs": [
    {
     "name": "stdout",
     "output_type": "stream",
     "text": [
      "Enter an integer150\n",
      "2 3 5 5 "
     ]
    }
   ],
   "source": [
    "integer = int(input(\"Enter an integer\"))\n",
    "for i in range(2, integer + 1):\n",
    "    while integer % i == 0:\n",
    "        print(i, end = \" \")\n",
    "        integer = integer // i"
   ]
  },
  {
   "cell_type": "code",
   "execution_count": 19,
   "metadata": {
    "nbgrader": {
     "grade": false,
     "grade_id": "cell-831668a818326720",
     "locked": false,
     "schema_version": 1,
     "solution": true
    },
    "slideshow": {
     "slide_type": "fragment"
    }
   },
   "outputs": [
    {
     "name": "stdout",
     "output_type": "stream",
     "text": [
      "Enter an integer150\n",
      "2\n",
      "3\n",
      "5\n",
      "5\n"
     ]
    }
   ],
   "source": [
    "#print the factors - continue the division till it is not divisible\n",
    "integer = int(input(\"Enter an integer\"))\n",
    "for i in range(2, integer+1):\n",
    "    while (integer % i == 0):   \n",
    "        print(i)\n",
    "        integer = integer // i\n",
    "        "
   ]
  },
  {
   "cell_type": "markdown",
   "metadata": {
    "slideshow": {
     "slide_type": "slide"
    }
   },
   "source": [
    "### Exercise 2\n",
    "The last digit of a credit card number is the check digit, which protects against transcription errors such as an error in a single digit or switching two digits. The following method is used to verify actual credit card numbers but, for simplicity, we will describe it for numbers with 8 digits instead of 16:\n",
    "- Starting from the rightmost digit, form the sum of every other digit. For example, if the credit card number is 4358 9795, then you form the sum 5 + 7 + 8 + 3 = 23.\n",
    "- Double each of the digits that were not included in the preceding step. Add all digits of the resulting numbers. For example, with the number given above, doubling the digits, starting with the next-to-last one, yields 18 18 10 8. Adding all digits in these values yields 1 + 8 + 1 + 8 + 1 + 0 + 8 = 27.\n",
    "- Add the sums of the two preceding steps. If the last digit of the result is 0, the number is valid. In our case, 23 + 27 = 50, so the number is valid.\n",
    "\n",
    "Write a program that implements this algorithm. The user should supply an 8-digit number, and you should print out whether the number is valid or not."
   ]
  },
  {
   "cell_type": "code",
   "execution_count": 15,
   "metadata": {},
   "outputs": [
    {
     "name": "stdout",
     "output_type": "stream",
     "text": [
      "Enter an 8 digit number: 43589795\n",
      "50 valid\n"
     ]
    }
   ],
   "source": [
    "number = input(\"Enter an 8 digit number: \") \n",
    "total1 = 0\n",
    "total2 = 0\n",
    "for i in range(len(number)): #45389759\n",
    "    if i % 2 == 1:\n",
    "        total1 = int(number[i]) + total1\n",
    "    else:\n",
    "        d = str(int(number[i]) * 2) \n",
    "        for j in d:\n",
    "            total2 = int(j) + total2\n",
    "if (total1 + total2) % 10 == 0:\n",
    "    print(total1 + total2, \"valid\")\n",
    "else:\n",
    "    print(\"not valid\")\n",
    "    \n",
    "        "
   ]
  },
  {
   "cell_type": "code",
   "execution_count": 16,
   "metadata": {},
   "outputs": [
    {
     "name": "stdout",
     "output_type": "stream",
     "text": [
      "27\n",
      "23\n",
      "50\n"
     ]
    }
   ],
   "source": [
    "s = \"43589795\" # credit card number\n",
    "s1 = 0 # initial value of s1 in order to print the sum\n",
    "s3 = 0\n",
    "for i in range(0, len(s), 1):# this will print the odd number of index in the string (3, 8, 7 ,5)\n",
    "    if(i % 2 == 1):\n",
    "        s1 = s1 + int(s[i])\n",
    "    else:\n",
    "        n = str(int(s[i]) * 2)\n",
    "        for d in n:\n",
    "            s3 = s3 + int(d)\n",
    "print(s3)\n",
    "print(s1)\n",
    "if (s3 + s1) % 10 == 0:\n",
    "    print(s1 + s3)\n",
    "else:\n",
    "    print(\"number is not valid\")\n"
   ]
  },
  {
   "cell_type": "code",
   "execution_count": null,
   "metadata": {},
   "outputs": [],
   "source": []
  }
 ],
 "metadata": {
  "celltoolbar": "Slideshow",
  "kernelspec": {
   "display_name": "Python 3 (ipykernel)",
   "language": "python",
   "name": "python3"
  },
  "language_info": {
   "codemirror_mode": {
    "name": "ipython",
    "version": 3
   },
   "file_extension": ".py",
   "mimetype": "text/x-python",
   "name": "python",
   "nbconvert_exporter": "python",
   "pygments_lexer": "ipython3",
   "version": "3.10.9"
  },
  "rise": {
   "theme": "yellow"
  },
  "toc": {
   "base_numbering": 1,
   "nav_menu": {},
   "number_sections": true,
   "sideBar": true,
   "skip_h1_title": false,
   "title_cell": "Table of Contents",
   "title_sidebar": "Contents",
   "toc_cell": false,
   "toc_position": {
    "height": "131px",
    "left": "781px",
    "top": "290px",
    "width": "221px"
   },
   "toc_section_display": true,
   "toc_window_display": false
  },
  "varInspector": {
   "cols": {
    "lenName": 16,
    "lenType": 16,
    "lenVar": 40
   },
   "kernels_config": {
    "python": {
     "delete_cmd_postfix": "",
     "delete_cmd_prefix": "del ",
     "library": "var_list.py",
     "varRefreshCmd": "print(var_dic_list())"
    },
    "r": {
     "delete_cmd_postfix": ") ",
     "delete_cmd_prefix": "rm(",
     "library": "var_list.r",
     "varRefreshCmd": "cat(var_dic_list()) "
    }
   },
   "types_to_exclude": [
    "module",
    "function",
    "builtin_function_or_method",
    "instance",
    "_Feature"
   ],
   "window_display": false
  }
 },
 "nbformat": 4,
 "nbformat_minor": 4
}
