{
 "cells": [
  {
   "cell_type": "markdown",
   "metadata": {
    "slideshow": {
     "slide_type": "slide"
    }
   },
   "source": [
    "# ICS 104 - Introduction to Programming in Python and C\n",
    "## 223-Lab11-Objects and Classes"
   ]
  },
  {
   "cell_type": "markdown",
   "metadata": {
    "slideshow": {
     "slide_type": "slide"
    }
   },
   "source": [
    "# Lab Learning Outcomes\n",
    "- To understand the concepts of classes, objects and encapsulation\n",
    "- To implement instance variables, methods and constructors\n",
    "- To be able to design, implement and test your own classes"
   ]
  },
  {
   "cell_type": "markdown",
   "metadata": {
    "slideshow": {
     "slide_type": "slide"
    }
   },
   "source": [
    "# Exercises "
   ]
  },
  {
   "cell_type": "markdown",
   "metadata": {
    "slideshow": {
     "slide_type": "slide"
    }
   },
   "source": [
    "## Exercise # 1\n",
    "Define a class `Point` that represents a point in $2-D$ plane.  The point has $x$ and $y$ coordinates. Define the following:\n",
    "-\tA constructor to initialize the $x$, $y$ coordinates.\n",
    "-\tA method `distanceTo (self, anotherPoint)`  to return the distance between the point referenced by `self` and `anotherPoint`.\n",
    "-\t`getX(self)` to return the value of $x$ coordinate.\n",
    "-\t`getY(self)` to return the value of $y$ coordinate.<br> \n",
    "\n",
    "Test the above class by:\n",
    "- Creating 2 point objects; one with (3,5) as x,y coordinates; the second with (-10,30) as x,y coordinates.\n",
    "\n",
    "- Find the distance between the 2 points using distanceTo method\n",
    "\n",
    "A Sample output resulting from running the above test class is shown below\n",
    "\n",
    "point1 = (3.0 , 5.0)  \n",
    "\n",
    "point2 = (9.0 , 13.0)\n",
    "\n",
    "distance = 10.0  \n"
   ]
  },
  {
   "cell_type": "code",
   "execution_count": 11,
   "metadata": {},
   "outputs": [
    {
     "name": "stdout",
     "output_type": "stream",
     "text": [
      "10.0\n",
      "3\n",
      "13\n"
     ]
    }
   ],
   "source": [
    "from math import sqrt\n",
    "class Point:\n",
    "    def __init__(self, x, y):\n",
    "        self._x = x\n",
    "        self._y = y\n",
    "        \n",
    "        \n",
    "    def distanceTo (self, anotherPoint):\n",
    "        distance = sqrt((self._x - anotherPoint._x ) ** 2 + (self._y - anotherPoint._y) ** 2)\n",
    "        print(distance)\n",
    " \n",
    "        \n",
    "    def getX (self):\n",
    "        return self._x\n",
    "        \n",
    "\n",
    "        \n",
    "    def getY(self):\n",
    "        return self._y\n",
    "        \n",
    "        \n",
    "        \n",
    "point1 = Point(3,5)\n",
    "point2 = Point(9, 13)\n",
    "point1.distanceTo(point2)\n",
    "print(point1.getX())\n",
    "print(point2.getY())\n"
   ]
  },
  {
   "cell_type": "markdown",
   "metadata": {
    "slideshow": {
     "slide_type": "slide"
    }
   },
   "source": [
    "## Exercise # 2\n",
    "Implement a `class` Car with the following properties. A car has a certain fuel efficiency (measured in km/liter) \n",
    "and a certain amount of fuel in the tank.\n",
    "The efficiency is specified in the constructor, and the initial fuel 0. \n",
    "Supply a method `drive` that simulates driving the car for a certain distance, reducing the fuel in the tank, \n",
    "a method `getFuel` to return the amount of fuel in the tank, \n",
    "and a method `addFuel` to fill the tank with an amount. \n",
    "\n",
    "Sample usage:\n",
    "```\n",
    "myCar = Car(50) # 50 km per liter\n",
    "\n",
    "myCar.addFuel(20) # fill tank with 20 liters\n",
    "\n",
    "myCar.drive(100) # Drive 100 km\n",
    "\n",
    "print(myCar.getFuel()) # Print fuel remaining\n",
    "```"
   ]
  },
  {
   "cell_type": "code",
   "execution_count": 24,
   "metadata": {
    "slideshow": {
     "slide_type": "fragment"
    }
   },
   "outputs": [
    {
     "name": "stdout",
     "output_type": "stream",
     "text": [
      "18.0\n"
     ]
    }
   ],
   "source": [
    "# YOUR CODE HERE\n",
    "class Car:\n",
    "    def __init__(self, efficiency, amount = 0):\n",
    "        self.efficiency = efficiency\n",
    "        self.amount = amount\n",
    "    \n",
    "    def drive(self, distance): #we don't say self.distance because it is a parameter\n",
    "        self.amount = self.amount - distance / self.efficiency\n",
    "\n",
    "            \n",
    "    def getFuel(self):\n",
    "        return self.amount\n",
    "        \n",
    "   \n",
    "    def addFuel(self, fuel):\n",
    "        self.amount = self.amount + fuel\n",
    "        \n",
    "\n",
    "        \n",
    "myCar = Car(50) # 50 km per liter\n",
    "\n",
    "myCar.addFuel(20) # fill tank with 20 liters\n",
    "\n",
    "myCar.drive(100) # Drive 100 km\n",
    "\n",
    "print(myCar.getFuel()) # Print fuel remaining\n",
    "        \n",
    "        \n",
    "        \n",
    "        \n"
   ]
  },
  {
   "cell_type": "code",
   "execution_count": null,
   "metadata": {},
   "outputs": [],
   "source": []
  }
 ],
 "metadata": {
  "celltoolbar": "Slideshow",
  "kernelspec": {
   "display_name": "Python 3 (ipykernel)",
   "language": "python",
   "name": "python3"
  },
  "language_info": {
   "codemirror_mode": {
    "name": "ipython",
    "version": 3
   },
   "file_extension": ".py",
   "mimetype": "text/x-python",
   "name": "python",
   "nbconvert_exporter": "python",
   "pygments_lexer": "ipython3",
   "version": "3.10.9"
  },
  "rise": {
   "theme": "yellow"
  },
  "toc": {
   "base_numbering": 1,
   "nav_menu": {},
   "number_sections": true,
   "sideBar": false,
   "skip_h1_title": false,
   "title_cell": "Table of Contents",
   "title_sidebar": "Contents",
   "toc_cell": false,
   "toc_position": {
    "height": "789px",
    "left": "450px",
    "top": "145px",
    "width": "384px"
   },
   "toc_section_display": false,
   "toc_window_display": false
  },
  "varInspector": {
   "cols": {
    "lenName": 16,
    "lenType": 16,
    "lenVar": 40
   },
   "kernels_config": {
    "python": {
     "delete_cmd_postfix": "",
     "delete_cmd_prefix": "del ",
     "library": "var_list.py",
     "varRefreshCmd": "print(var_dic_list())"
    },
    "r": {
     "delete_cmd_postfix": ") ",
     "delete_cmd_prefix": "rm(",
     "library": "var_list.r",
     "varRefreshCmd": "cat(var_dic_list()) "
    }
   },
   "types_to_exclude": [
    "module",
    "function",
    "builtin_function_or_method",
    "instance",
    "_Feature"
   ],
   "window_display": false
  }
 },
 "nbformat": 4,
 "nbformat_minor": 4
}
